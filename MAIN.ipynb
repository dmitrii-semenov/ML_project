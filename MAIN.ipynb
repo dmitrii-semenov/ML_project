{
 "cells": [
  {
   "cell_type": "markdown",
   "metadata": {},
   "source": [
    "# MPA-MLF: Final project"
   ]
  },
  {
   "cell_type": "markdown",
   "metadata": {},
   "source": [
    "Made by Dmitrii Semenov, Josef Pecka"
   ]
  },
  {
   "cell_type": "markdown",
   "metadata": {},
   "source": [
    "Step 1: Import libraries"
   ]
  },
  {
   "cell_type": "code",
   "execution_count": 10,
   "metadata": {},
   "outputs": [],
   "source": [
    "# Import general libraries\n",
    "import os\n",
    "import numpy as np\n",
    "import pandas as pd\n",
    "import matplotlib\n",
    "import matplotlib.pyplot as plt\n",
    "\n",
    "# Import main functions for ML\n",
    "from tensorflow import keras\n",
    "from keras.models import Sequential\n",
    "from keras.layers import Conv2D, MaxPooling2D, Flatten, Dense, Dropout, BatchNormalization\n",
    "from keras.optimizers import Adam\n",
    "from keras.utils import to_categorical\n",
    "from keras.callbacks import Callback, ReduceLROnPlateau\n",
    "from sklearn.model_selection import train_test_split\n",
    "\n",
    "\n",
    "# Import Tuner\n",
    "from keras_tuner.tuners import RandomSearch\n",
    "from keras_tuner.engine.hyperparameters import HyperParameters\n",
    "\n",
    "# Import confusion matrix fucntion\n",
    "from sklearn.metrics import confusion_matrix, ConfusionMatrixDisplay\n",
    "\n",
    "# Set plot font \n",
    "font = {'weight' : 'bold',\n",
    "        'size'   : 12}\n",
    "\n",
    "matplotlib.rc('font', **font)"
   ]
  },
  {
   "cell_type": "markdown",
   "metadata": {},
   "source": [
    "Step 2: Load input files"
   ]
  },
  {
   "cell_type": "code",
   "execution_count": 11,
   "metadata": {},
   "outputs": [
    {
     "name": "stdout",
     "output_type": "stream",
     "text": [
      "[INFO] Loaded 1491 samples of shape (72, 48)\n",
      "[INFO] Max value of X data 76.52984619140625\n",
      "[INFO] Min value of X data -66.49512481689453\n"
     ]
    }
   ],
   "source": [
    "# Set dataset paths\n",
    "dataset_dir = \"\"\n",
    "train_dir = os.path.join(dataset_dir, \"Train\")\n",
    "test_dir = os.path.join(dataset_dir, \"Test\")\n",
    "labels_path = os.path.join(dataset_dir, \"label_train.csv\")\n",
    "test_format_path = os.path.join(dataset_dir, \"test_format.csv\")\n",
    "\n",
    "# Load labels file\n",
    "labels_df = pd.read_csv(labels_path)\n",
    "\n",
    "# Prepare containers\n",
    "X = []\n",
    "y = []\n",
    "\n",
    "# Loop through each file ID\n",
    "for _, row in labels_df.iterrows():\n",
    "    file_name = f\"{row['ID']}.npy\"\n",
    "    file_path = os.path.join(train_dir, file_name)\n",
    "    try:\n",
    "        sample = np.load(file_path)\n",
    "        X.append(sample)\n",
    "        y.append(row['target'])\n",
    "    except Exception as e:\n",
    "        print(f\"[Error] Could not load {file_name}: {e}\")\n",
    "\n",
    "# Convert to NumPy arrays\n",
    "X = np.array(X, dtype=np.float32)\n",
    "y = np.array(y, dtype=np.int32)\n",
    "\n",
    "print(f\"[INFO] Loaded {X.shape[0]} samples of shape {X.shape[1:]}\")\n",
    "print(f\"[INFO] Max value of X data {np.max(X)}\")\n",
    "print(f\"[INFO] Min value of X data {np.min(X)}\")\n"
   ]
  },
  {
   "cell_type": "markdown",
   "metadata": {},
   "source": [
    "Step 3: Data preprocessing"
   ]
  },
  {
   "cell_type": "code",
   "execution_count": 49,
   "metadata": {},
   "outputs": [
    {
     "name": "stdout",
     "output_type": "stream",
     "text": [
      "[INFO] Mean value of data after Z-score normalizations: -5.460464969075929e-09\n",
      "X_train shape: (1192, 72, 48, 1), X_val shape: (299, 72, 48, 1)\n",
      "y_train shape: (1192, 3, 3), y_val shape: (299, 3, 3)\n"
     ]
    }
   ],
   "source": [
    "# Z-score normalization\n",
    "X = X.astype(\"float32\")\n",
    "X_mean = X.mean()\n",
    "X_std = X.std()\n",
    "X = (X - X_mean) / X_std\n",
    "\n",
    "print(f\"[INFO] Mean value of data after Z-score normalizations: {np.mean(X)}\")\n",
    "\n",
    "# Reshape for CNN input\n",
    "X = X.reshape((-1, 72, 48, 1))\n",
    "\n",
    "# One-hot encode labels\n",
    "NUM_CLASSES = 3\n",
    "y = to_categorical(y, NUM_CLASSES)\n",
    "\n",
    "# Train-validation split\n",
    "X_train, X_val, y_train, y_val = train_test_split(X, y,\n",
    "    test_size=0.2,\n",
    "    stratify=y.argmax(axis=1),\n",
    "    random_state=42\n",
    ")\n",
    "\n",
    "# Print result\n",
    "print(f\"X_train shape: {X_train.shape}, X_val shape: {X_val.shape}\")\n",
    "print(f\"y_train shape: {y_train.shape}, y_val shape: {y_val.shape}\")"
   ]
  },
  {
   "cell_type": "markdown",
   "metadata": {},
   "source": [
    "Visualize class distribution in training and validation sets"
   ]
  },
  {
   "cell_type": "code",
   "execution_count": 13,
   "metadata": {},
   "outputs": [
    {
     "data": {
      "image/png": "[encoded data removed]",
      "text/plain": [
       "<Figure size 1000x400 with 2 Axes>"
      ]
     },
     "metadata": {},
     "output_type": "display_data"
    }
   ],
   "source": [
    "# Convert one-hot labels back to class indices\n",
    "y_train_labels = y_train.argmax(axis=1)\n",
    "y_val_labels = y_val.argmax(axis=1)\n",
    "\n",
    "# Plot\n",
    "plt.figure(figsize=(10, 4))\n",
    "\n",
    "# Training set\n",
    "plt.subplot(1, 2, 1)\n",
    "plt.hist(y_train_labels, bins=np.arange(NUM_CLASSES + 1) - 0.5, rwidth=0.8, color='skyblue', edgecolor='black')\n",
    "plt.xticks(range(NUM_CLASSES))\n",
    "plt.title(\"Training Set Class Distribution\")\n",
    "plt.xlabel(\"Class\")\n",
    "plt.ylabel(\"Count\")\n",
    "\n",
    "# Validation set\n",
    "plt.subplot(1, 2, 2)\n",
    "plt.hist(y_val_labels, bins=np.arange(NUM_CLASSES + 1) - 0.5, rwidth=0.8, color='salmon', edgecolor='black')\n",
    "plt.xticks(range(NUM_CLASSES))\n",
    "plt.title(\"Validation Set Class Distribution\")\n",
    "plt.xlabel(\"Class\")\n",
    "plt.ylabel(\"Count\")\n",
    "\n",
    "plt.tight_layout()\n",
    "plt.show()"
   ]
  },
  {
   "cell_type": "markdown",
   "metadata": {},
   "source": [
    "Step 4: CNN model definition + Keras Tuner"
   ]
  },
  {
   "cell_type": "code",
   "execution_count": 25,
   "metadata": {},
   "outputs": [],
   "source": [
    "def build_model(hp):\n",
    "    model = Sequential()\n",
    "    \n",
    "    # Input layer\n",
    "    model.add(Conv2D(\n",
    "        filters=hp.Choice(\"filters_1\", [64, 128, 256]),\n",
    "        kernel_size=hp.Choice(\"kernel_size_1\", [3, 5]),\n",
    "        activation='relu',\n",
    "        input_shape=(72, 48, 1)\n",
    "    ))\n",
    "    model.add(BatchNormalization())\n",
    "    model.add(MaxPooling2D(pool_size=2))\n",
    "    \n",
    "    # Optional Conv layer 2\n",
    "    if hp.Boolean(\"add_conv_2\"):\n",
    "        model.add(Conv2D(\n",
    "            filters=hp.Choice(\"filters_2\", [64, 128, 256]),\n",
    "            kernel_size=hp.Choice(\"kernel_size_2\", [3, 5]),\n",
    "            activation='relu'\n",
    "        ))\n",
    "        model.add(BatchNormalization())\n",
    "        model.add(MaxPooling2D(pool_size=2))\n",
    "\n",
    "    # Optional Conv layer 3\n",
    "    if hp.Boolean(\"add_conv_3\"):\n",
    "        model.add(Conv2D(\n",
    "            filters=hp.Choice(\"filters_3\", [64, 128, 256]),\n",
    "            kernel_size=hp.Choice(\"kernel_size_3\", [3, 5]),\n",
    "            activation='relu'\n",
    "        ))\n",
    "        model.add(BatchNormalization())\n",
    "        model.add(MaxPooling2D(pool_size=2))\n",
    "\n",
    "    model.add(Flatten())\n",
    "    \n",
    "    model.add(Dense(\n",
    "        units=hp.Choice(\"dense_units\", [64, 128, 256]),\n",
    "        activation='relu'\n",
    "    ))\n",
    "    model.add(Dropout(rate=hp.Float(\"dropout\", 0.2, 0.5, step=0.1)))\n",
    "\n",
    "    model.add(Dense(3, activation=\"softmax\"))\n",
    "\n",
    "    model.compile(\n",
    "        optimizer=keras.optimizers.Adam(\n",
    "            hp.Float(\"learning_rate\", 1e-4, 1e-2, sampling='log')),\n",
    "        loss=\"categorical_crossentropy\",\n",
    "        metrics=[\"accuracy\"]\n",
    "    )\n",
    "    \n",
    "    return model"
   ]
  },
  {
   "cell_type": "markdown",
   "metadata": {},
   "source": [
    "Step 5: Run Keras Tuner to Find the Best Hyperparameters\n"
   ]
  },
  {
   "cell_type": "code",
   "execution_count": 26,
   "metadata": {},
   "outputs": [],
   "source": [
    "# Define custom EarlyStopping calback (monitors if \"val_accuracy\" is above threshold)\n",
    "class EarlyStoppingWithThreshold(Callback):\n",
    "    def __init__(self, monitor='val_accuracy', patience=5, threshold=0.5, verbose=1):\n",
    "        super().__init__()\n",
    "        self.monitor = monitor\n",
    "        self.patience = patience\n",
    "        self.threshold = threshold\n",
    "        self.verbose = verbose\n",
    "        self.wait = 0\n",
    "        self.best = -np.inf\n",
    "\n",
    "    def on_epoch_end(self, epoch, logs=None):\n",
    "        current = logs.get(self.monitor)\n",
    "        if current is None:\n",
    "            return\n",
    "        \n",
    "        # Only start checking if threshold is passed\n",
    "        if current < self.threshold:\n",
    "            if self.verbose:\n",
    "                print(f\"Epoch {epoch + 1}: {self.monitor} below threshold {self.threshold:.2f}, skipping early stop check.\")\n",
    "            return\n",
    "        \n",
    "        if current > self.best:\n",
    "            self.best = current\n",
    "            self.wait = 0\n",
    "        else:\n",
    "            self.wait += 1\n",
    "            if self.wait >= self.patience:\n",
    "                if self.verbose:\n",
    "                    print(f\"\\nEpoch {epoch + 1}: early stopping triggered. Best {self.monitor}: {self.best:.4f}\")\n",
    "                self.model.stop_training = True"
   ]
  },
  {
   "cell_type": "code",
   "execution_count": 27,
   "metadata": {},
   "outputs": [
    {
     "name": "stdout",
     "output_type": "stream",
     "text": [
      "Trial 25 Complete [00h 00m 58s]\n",
      "val_accuracy: 1.0\n",
      "\n",
      "Best val_accuracy So Far: 1.0\n",
      "Total elapsed time: 01h 06m 27s\n",
      "Results summary\n",
      "Results in tuner_results/cnn_tuning\n",
      "Showing 10 best trials\n",
      "Objective(name=\"val_accuracy\", direction=\"max\")\n",
      "\n",
      "Trial 00 summary\n",
      "Hyperparameters:\n",
      "filters_1: 128\n",
      "kernel_size_1: 3\n",
      "add_conv_2: True\n",
      "add_conv_3: False\n",
      "dense_units: 128\n",
      "dropout: 0.2\n",
      "learning_rate: 0.0006982658253988871\n",
      "filters_2: 64\n",
      "kernel_size_2: 3\n",
      "Score: 1.0\n",
      "\n",
      "Trial 01 summary\n",
      "Hyperparameters:\n",
      "filters_1: 256\n",
      "kernel_size_1: 5\n",
      "add_conv_2: False\n",
      "add_conv_3: True\n",
      "dense_units: 64\n",
      "dropout: 0.2\n",
      "learning_rate: 0.0003711901475345014\n",
      "filters_2: 256\n",
      "kernel_size_2: 5\n",
      "filters_3: 64\n",
      "kernel_size_3: 3\n",
      "Score: 1.0\n",
      "\n",
      "Trial 05 summary\n",
      "Hyperparameters:\n",
      "filters_1: 128\n",
      "kernel_size_1: 3\n",
      "add_conv_2: True\n",
      "add_conv_3: True\n",
      "dense_units: 256\n",
      "dropout: 0.30000000000000004\n",
      "learning_rate: 0.00912785730912851\n",
      "filters_2: 256\n",
      "kernel_size_2: 5\n",
      "filters_3: 64\n",
      "kernel_size_3: 5\n",
      "Score: 1.0\n",
      "\n",
      "Trial 07 summary\n",
      "Hyperparameters:\n",
      "filters_1: 128\n",
      "kernel_size_1: 5\n",
      "add_conv_2: False\n",
      "add_conv_3: True\n",
      "dense_units: 256\n",
      "dropout: 0.30000000000000004\n",
      "learning_rate: 0.00014919836642562443\n",
      "filters_2: 64\n",
      "kernel_size_2: 5\n",
      "filters_3: 128\n",
      "kernel_size_3: 5\n",
      "Score: 1.0\n",
      "\n",
      "Trial 08 summary\n",
      "Hyperparameters:\n",
      "filters_1: 64\n",
      "kernel_size_1: 3\n",
      "add_conv_2: False\n",
      "add_conv_3: True\n",
      "dense_units: 64\n",
      "dropout: 0.30000000000000004\n",
      "learning_rate: 0.00018821084414612454\n",
      "filters_2: 64\n",
      "kernel_size_2: 5\n",
      "filters_3: 128\n",
      "kernel_size_3: 5\n",
      "Score: 1.0\n",
      "\n",
      "Trial 12 summary\n",
      "Hyperparameters:\n",
      "filters_1: 256\n",
      "kernel_size_1: 5\n",
      "add_conv_2: False\n",
      "add_conv_3: True\n",
      "dense_units: 128\n",
      "dropout: 0.2\n",
      "learning_rate: 0.002606434463202174\n",
      "filters_2: 256\n",
      "kernel_size_2: 5\n",
      "filters_3: 256\n",
      "kernel_size_3: 3\n",
      "Score: 1.0\n",
      "\n",
      "Trial 15 summary\n",
      "Hyperparameters:\n",
      "filters_1: 64\n",
      "kernel_size_1: 3\n",
      "add_conv_2: False\n",
      "add_conv_3: False\n",
      "dense_units: 64\n",
      "dropout: 0.4\n",
      "learning_rate: 0.00032427539289096825\n",
      "filters_2: 256\n",
      "kernel_size_2: 3\n",
      "filters_3: 64\n",
      "kernel_size_3: 3\n",
      "Score: 1.0\n",
      "\n",
      "Trial 18 summary\n",
      "Hyperparameters:\n",
      "filters_1: 256\n",
      "kernel_size_1: 5\n",
      "add_conv_2: False\n",
      "add_conv_3: True\n",
      "dense_units: 256\n",
      "dropout: 0.4\n",
      "learning_rate: 0.002739329044367801\n",
      "filters_2: 128\n",
      "kernel_size_2: 3\n",
      "filters_3: 64\n",
      "kernel_size_3: 5\n",
      "Score: 1.0\n",
      "\n",
      "Trial 19 summary\n",
      "Hyperparameters:\n",
      "filters_1: 256\n",
      "kernel_size_1: 3\n",
      "add_conv_2: True\n",
      "add_conv_3: False\n",
      "dense_units: 64\n",
      "dropout: 0.4\n",
      "learning_rate: 0.0002860825237219976\n",
      "filters_2: 128\n",
      "kernel_size_2: 5\n",
      "filters_3: 64\n",
      "kernel_size_3: 5\n",
      "Score: 1.0\n",
      "\n",
      "Trial 20 summary\n",
      "Hyperparameters:\n",
      "filters_1: 64\n",
      "kernel_size_1: 5\n",
      "add_conv_2: False\n",
      "add_conv_3: True\n",
      "dense_units: 64\n",
      "dropout: 0.4\n",
      "learning_rate: 0.0003069874313926494\n",
      "filters_2: 128\n",
      "kernel_size_2: 5\n",
      "filters_3: 64\n",
      "kernel_size_3: 5\n",
      "Score: 1.0\n"
     ]
    },
    {
     "name": "stderr",
     "output_type": "stream",
     "text": [
      "/Library/Frameworks/Python.framework/Versions/3.11/lib/python3.11/site-packages/keras/src/saving/saving_lib.py:757: UserWarning: Skipping variable loading for optimizer 'adam', because it has 2 variables whereas the saved optimizer has 26 variables. \n",
      "  saveable.load_own_variables(weights_store.get(inner_path))\n",
      "/Library/Frameworks/Python.framework/Versions/3.11/lib/python3.11/site-packages/keras/src/saving/saving_lib.py:757: UserWarning: Skipping variable loading for optimizer 'adam', because it has 2 variables whereas the saved optimizer has 34 variables. \n",
      "  saveable.load_own_variables(weights_store.get(inner_path))\n"
     ]
    }
   ],
   "source": [
    "# Initialize the tuner\n",
    "tuner = RandomSearch(\n",
    "    build_model,\n",
    "    objective='val_accuracy',\n",
    "    max_trials=25,            # You can increase this for better results\n",
    "    executions_per_trial=1,    # Runs per model setting\n",
    "    directory='tuner_results',\n",
    "    project_name='cnn_tuning'\n",
    ")\n",
    "\n",
    "# Tuner summary\n",
    "tuner.search_space_summary()\n",
    "\n",
    "# Run the tuner\n",
    "tuner.search(\n",
    "    X_train, y_train,\n",
    "    epochs=50,\n",
    "    validation_data=(X_val, y_val),\n",
    "    callbacks=[\n",
    "        EarlyStoppingWithThreshold(monitor='val_accuracy', patience=5, threshold=0.5, verbose=1),\n",
    "        ReduceLROnPlateau(monitor='val_loss', factor=0.5, patience=3, min_lr=1e-6, verbose=1)\n",
    "    ],\n",
    "    verbose=2\n",
    ")\n",
    "\n",
    "# Show the best model found\n",
    "tuner.results_summary()\n",
    "\n",
    "# Get the best model\n",
    "top_models = tuner.get_best_models(num_models=5)"
   ]
  },
  {
   "cell_type": "markdown",
   "metadata": {},
   "source": [
    "Take the best model (the easiest and with high accuracy)"
   ]
  },
  {
   "cell_type": "code",
   "execution_count": 28,
   "metadata": {},
   "outputs": [
    {
     "name": "stdout",
     "output_type": "stream",
     "text": [
      "Model 1 - Total trainable parameters: 1387075\n",
      "Model 2 - Total trainable parameters: 811075\n",
      "Model 3 - Total trainable parameters: 1397059\n",
      "Model 4 - Total trainable parameters: 4838787\n",
      "Model 5 - Total trainable parameters: 1312515\n"
     ]
    }
   ],
   "source": [
    "for i, model in enumerate(top_models):\n",
    "    model_params = model.count_params()\n",
    "    print(f\"Model {i+1} - Total trainable parameters: {model_params}\")\n",
    "\n",
    "best_model = min(top_models, key=lambda m: m.count_params())"
   ]
  },
  {
   "cell_type": "markdown",
   "metadata": {},
   "source": [
    "Step 6: Final training of the best model and evaluation"
   ]
  },
  {
   "cell_type": "code",
   "execution_count": 41,
   "metadata": {},
   "outputs": [
    {
     "data": {
      "text/html": [
       "<pre style=\"white-space:pre;overflow-x:auto;line-height:normal;font-family:Menlo,'DejaVu Sans Mono',consolas,'Courier New',monospace\"><span style=\"font-weight: bold\">Model: \"sequential\"</span>\n",
       "</pre>\n"
      ],
      "text/plain": [
       "\u001b[1mModel: \"sequential\"\u001b[0m\n"
      ]
     },
     "metadata": {},
     "output_type": "display_data"
    },
    {
     "data": {
      "text/html": [
       "<pre style=\"white-space:pre;overflow-x:auto;line-height:normal;font-family:Menlo,'DejaVu Sans Mono',consolas,'Courier New',monospace\">┏━━━━━━━━━━━━━━━━━━━━━━━━━━━━━━━━━┳━━━━━━━━━━━━━━━━━━━━━━━━┳━━━━━━━━━━━━━━━┓\n",
       "┃<span style=\"font-weight: bold\"> Layer (type)                    </span>┃<span style=\"font-weight: bold\"> Output Shape           </span>┃<span style=\"font-weight: bold\">       Param # </span>┃\n",
       "┡━━━━━━━━━━━━━━━━━━━━━━━━━━━━━━━━━╇━━━━━━━━━━━━━━━━━━━━━━━━╇━━━━━━━━━━━━━━━┩\n",
       "│ conv2d (<span style=\"color: #0087ff; text-decoration-color: #0087ff\">Conv2D</span>)                 │ (<span style=\"color: #00d7ff; text-decoration-color: #00d7ff\">None</span>, <span style=\"color: #00af00; text-decoration-color: #00af00\">68</span>, <span style=\"color: #00af00; text-decoration-color: #00af00\">44</span>, <span style=\"color: #00af00; text-decoration-color: #00af00\">256</span>)    │         <span style=\"color: #00af00; text-decoration-color: #00af00\">6,656</span> │\n",
       "├─────────────────────────────────┼────────────────────────┼───────────────┤\n",
       "│ batch_normalization             │ (<span style=\"color: #00d7ff; text-decoration-color: #00d7ff\">None</span>, <span style=\"color: #00af00; text-decoration-color: #00af00\">68</span>, <span style=\"color: #00af00; text-decoration-color: #00af00\">44</span>, <span style=\"color: #00af00; text-decoration-color: #00af00\">256</span>)    │         <span style=\"color: #00af00; text-decoration-color: #00af00\">1,024</span> │\n",
       "│ (<span style=\"color: #0087ff; text-decoration-color: #0087ff\">BatchNormalization</span>)            │                        │               │\n",
       "├─────────────────────────────────┼────────────────────────┼───────────────┤\n",
       "│ max_pooling2d (<span style=\"color: #0087ff; text-decoration-color: #0087ff\">MaxPooling2D</span>)    │ (<span style=\"color: #00d7ff; text-decoration-color: #00d7ff\">None</span>, <span style=\"color: #00af00; text-decoration-color: #00af00\">34</span>, <span style=\"color: #00af00; text-decoration-color: #00af00\">22</span>, <span style=\"color: #00af00; text-decoration-color: #00af00\">256</span>)    │             <span style=\"color: #00af00; text-decoration-color: #00af00\">0</span> │\n",
       "├─────────────────────────────────┼────────────────────────┼───────────────┤\n",
       "│ conv2d_1 (<span style=\"color: #0087ff; text-decoration-color: #0087ff\">Conv2D</span>)               │ (<span style=\"color: #00d7ff; text-decoration-color: #00d7ff\">None</span>, <span style=\"color: #00af00; text-decoration-color: #00af00\">32</span>, <span style=\"color: #00af00; text-decoration-color: #00af00\">20</span>, <span style=\"color: #00af00; text-decoration-color: #00af00\">64</span>)     │       <span style=\"color: #00af00; text-decoration-color: #00af00\">147,520</span> │\n",
       "├─────────────────────────────────┼────────────────────────┼───────────────┤\n",
       "│ batch_normalization_1           │ (<span style=\"color: #00d7ff; text-decoration-color: #00d7ff\">None</span>, <span style=\"color: #00af00; text-decoration-color: #00af00\">32</span>, <span style=\"color: #00af00; text-decoration-color: #00af00\">20</span>, <span style=\"color: #00af00; text-decoration-color: #00af00\">64</span>)     │           <span style=\"color: #00af00; text-decoration-color: #00af00\">256</span> │\n",
       "│ (<span style=\"color: #0087ff; text-decoration-color: #0087ff\">BatchNormalization</span>)            │                        │               │\n",
       "├─────────────────────────────────┼────────────────────────┼───────────────┤\n",
       "│ max_pooling2d_1 (<span style=\"color: #0087ff; text-decoration-color: #0087ff\">MaxPooling2D</span>)  │ (<span style=\"color: #00d7ff; text-decoration-color: #00d7ff\">None</span>, <span style=\"color: #00af00; text-decoration-color: #00af00\">16</span>, <span style=\"color: #00af00; text-decoration-color: #00af00\">10</span>, <span style=\"color: #00af00; text-decoration-color: #00af00\">64</span>)     │             <span style=\"color: #00af00; text-decoration-color: #00af00\">0</span> │\n",
       "├─────────────────────────────────┼────────────────────────┼───────────────┤\n",
       "│ flatten (<span style=\"color: #0087ff; text-decoration-color: #0087ff\">Flatten</span>)               │ (<span style=\"color: #00d7ff; text-decoration-color: #00d7ff\">None</span>, <span style=\"color: #00af00; text-decoration-color: #00af00\">10240</span>)          │             <span style=\"color: #00af00; text-decoration-color: #00af00\">0</span> │\n",
       "├─────────────────────────────────┼────────────────────────┼───────────────┤\n",
       "│ dense (<span style=\"color: #0087ff; text-decoration-color: #0087ff\">Dense</span>)                   │ (<span style=\"color: #00d7ff; text-decoration-color: #00d7ff\">None</span>, <span style=\"color: #00af00; text-decoration-color: #00af00\">64</span>)             │       <span style=\"color: #00af00; text-decoration-color: #00af00\">655,424</span> │\n",
       "├─────────────────────────────────┼────────────────────────┼───────────────┤\n",
       "│ dropout (<span style=\"color: #0087ff; text-decoration-color: #0087ff\">Dropout</span>)               │ (<span style=\"color: #00d7ff; text-decoration-color: #00d7ff\">None</span>, <span style=\"color: #00af00; text-decoration-color: #00af00\">64</span>)             │             <span style=\"color: #00af00; text-decoration-color: #00af00\">0</span> │\n",
       "├─────────────────────────────────┼────────────────────────┼───────────────┤\n",
       "│ dense_1 (<span style=\"color: #0087ff; text-decoration-color: #0087ff\">Dense</span>)                 │ (<span style=\"color: #00d7ff; text-decoration-color: #00d7ff\">None</span>, <span style=\"color: #00af00; text-decoration-color: #00af00\">3</span>)              │           <span style=\"color: #00af00; text-decoration-color: #00af00\">195</span> │\n",
       "└─────────────────────────────────┴────────────────────────┴───────────────┘\n",
       "</pre>\n"
      ],
      "text/plain": [
       "┏━━━━━━━━━━━━━━━━━━━━━━━━━━━━━━━━━┳━━━━━━━━━━━━━━━━━━━━━━━━┳━━━━━━━━━━━━━━━┓\n",
       "┃\u001b[1m \u001b[0m\u001b[1mLayer (type)                   \u001b[0m\u001b[1m \u001b[0m┃\u001b[1m \u001b[0m\u001b[1mOutput Shape          \u001b[0m\u001b[1m \u001b[0m┃\u001b[1m \u001b[0m\u001b[1m      Param #\u001b[0m\u001b[1m \u001b[0m┃\n",
       "┡━━━━━━━━━━━━━━━━━━━━━━━━━━━━━━━━━╇━━━━━━━━━━━━━━━━━━━━━━━━╇━━━━━━━━━━━━━━━┩\n",
       "│ conv2d (\u001b[38;5;33mConv2D\u001b[0m)                 │ (\u001b[38;5;45mNone\u001b[0m, \u001b[38;5;34m68\u001b[0m, \u001b[38;5;34m44\u001b[0m, \u001b[38;5;34m256\u001b[0m)    │         \u001b[38;5;34m6,656\u001b[0m │\n",
       "├─────────────────────────────────┼────────────────────────┼───────────────┤\n",
       "│ batch_normalization             │ (\u001b[38;5;45mNone\u001b[0m, \u001b[38;5;34m68\u001b[0m, \u001b[38;5;34m44\u001b[0m, \u001b[38;5;34m256\u001b[0m)    │         \u001b[38;5;34m1,024\u001b[0m │\n",
       "│ (\u001b[38;5;33mBatchNormalization\u001b[0m)            │                        │               │\n",
       "├─────────────────────────────────┼────────────────────────┼───────────────┤\n",
       "│ max_pooling2d (\u001b[38;5;33mMaxPooling2D\u001b[0m)    │ (\u001b[38;5;45mNone\u001b[0m, \u001b[38;5;34m34\u001b[0m, \u001b[38;5;34m22\u001b[0m, \u001b[38;5;34m256\u001b[0m)    │             \u001b[38;5;34m0\u001b[0m │\n",
       "├─────────────────────────────────┼────────────────────────┼───────────────┤\n",
       "│ conv2d_1 (\u001b[38;5;33mConv2D\u001b[0m)               │ (\u001b[38;5;45mNone\u001b[0m, \u001b[38;5;34m32\u001b[0m, \u001b[38;5;34m20\u001b[0m, \u001b[38;5;34m64\u001b[0m)     │       \u001b[38;5;34m147,520\u001b[0m │\n",
       "├─────────────────────────────────┼────────────────────────┼───────────────┤\n",
       "│ batch_normalization_1           │ (\u001b[38;5;45mNone\u001b[0m, \u001b[38;5;34m32\u001b[0m, \u001b[38;5;34m20\u001b[0m, \u001b[38;5;34m64\u001b[0m)     │           \u001b[38;5;34m256\u001b[0m │\n",
       "│ (\u001b[38;5;33mBatchNormalization\u001b[0m)            │                        │               │\n",
       "├─────────────────────────────────┼────────────────────────┼───────────────┤\n",
       "│ max_pooling2d_1 (\u001b[38;5;33mMaxPooling2D\u001b[0m)  │ (\u001b[38;5;45mNone\u001b[0m, \u001b[38;5;34m16\u001b[0m, \u001b[38;5;34m10\u001b[0m, \u001b[38;5;34m64\u001b[0m)     │             \u001b[38;5;34m0\u001b[0m │\n",
       "├─────────────────────────────────┼────────────────────────┼───────────────┤\n",
       "│ flatten (\u001b[38;5;33mFlatten\u001b[0m)               │ (\u001b[38;5;45mNone\u001b[0m, \u001b[38;5;34m10240\u001b[0m)          │             \u001b[38;5;34m0\u001b[0m │\n",
       "├─────────────────────────────────┼────────────────────────┼───────────────┤\n",
       "│ dense (\u001b[38;5;33mDense\u001b[0m)                   │ (\u001b[38;5;45mNone\u001b[0m, \u001b[38;5;34m64\u001b[0m)             │       \u001b[38;5;34m655,424\u001b[0m │\n",
       "├─────────────────────────────────┼────────────────────────┼───────────────┤\n",
       "│ dropout (\u001b[38;5;33mDropout\u001b[0m)               │ (\u001b[38;5;45mNone\u001b[0m, \u001b[38;5;34m64\u001b[0m)             │             \u001b[38;5;34m0\u001b[0m │\n",
       "├─────────────────────────────────┼────────────────────────┼───────────────┤\n",
       "│ dense_1 (\u001b[38;5;33mDense\u001b[0m)                 │ (\u001b[38;5;45mNone\u001b[0m, \u001b[38;5;34m3\u001b[0m)              │           \u001b[38;5;34m195\u001b[0m │\n",
       "└─────────────────────────────────┴────────────────────────┴───────────────┘\n"
      ]
     },
     "metadata": {},
     "output_type": "display_data"
    },
    {
     "data": {
      "text/html": [
       "<pre style=\"white-space:pre;overflow-x:auto;line-height:normal;font-family:Menlo,'DejaVu Sans Mono',consolas,'Courier New',monospace\"><span style=\"font-weight: bold\"> Total params: </span><span style=\"color: #00af00; text-decoration-color: #00af00\">811,075</span> (3.09 MB)\n",
       "</pre>\n"
      ],
      "text/plain": [
       "\u001b[1m Total params: \u001b[0m\u001b[38;5;34m811,075\u001b[0m (3.09 MB)\n"
      ]
     },
     "metadata": {},
     "output_type": "display_data"
    },
    {
     "data": {
      "text/html": [
       "<pre style=\"white-space:pre;overflow-x:auto;line-height:normal;font-family:Menlo,'DejaVu Sans Mono',consolas,'Courier New',monospace\"><span style=\"font-weight: bold\"> Trainable params: </span><span style=\"color: #00af00; text-decoration-color: #00af00\">810,435</span> (3.09 MB)\n",
       "</pre>\n"
      ],
      "text/plain": [
       "\u001b[1m Trainable params: \u001b[0m\u001b[38;5;34m810,435\u001b[0m (3.09 MB)\n"
      ]
     },
     "metadata": {},
     "output_type": "display_data"
    },
    {
     "data": {
      "text/html": [
       "<pre style=\"white-space:pre;overflow-x:auto;line-height:normal;font-family:Menlo,'DejaVu Sans Mono',consolas,'Courier New',monospace\"><span style=\"font-weight: bold\"> Non-trainable params: </span><span style=\"color: #00af00; text-decoration-color: #00af00\">640</span> (2.50 KB)\n",
       "</pre>\n"
      ],
      "text/plain": [
       "\u001b[1m Non-trainable params: \u001b[0m\u001b[38;5;34m640\u001b[0m (2.50 KB)\n"
      ]
     },
     "metadata": {},
     "output_type": "display_data"
    },
    {
     "name": "stdout",
     "output_type": "stream",
     "text": [
      "None\n",
      "Epoch 1/50\n",
      "38/38 - 7s - 179ms/step - accuracy: 0.9841 - loss: 0.0447 - val_accuracy: 0.9465 - val_loss: 0.1511 - learning_rate: 3.7119e-04\n",
      "Epoch 2/50\n",
      "38/38 - 6s - 150ms/step - accuracy: 0.9908 - loss: 0.0273 - val_accuracy: 0.9933 - val_loss: 0.0202 - learning_rate: 3.7119e-04\n",
      "Epoch 3/50\n",
      "38/38 - 6s - 148ms/step - accuracy: 0.9899 - loss: 0.0257 - val_accuracy: 0.9833 - val_loss: 0.0359 - learning_rate: 3.7119e-04\n",
      "Epoch 4/50\n",
      "38/38 - 6s - 150ms/step - accuracy: 0.9908 - loss: 0.0195 - val_accuracy: 0.9766 - val_loss: 0.0912 - learning_rate: 3.7119e-04\n",
      "Epoch 5/50\n",
      "\n",
      "Epoch 5: ReduceLROnPlateau reducing learning rate to 0.00018559506861492991.\n",
      "38/38 - 6s - 150ms/step - accuracy: 0.9941 - loss: 0.0103 - val_accuracy: 0.9732 - val_loss: 0.0912 - learning_rate: 3.7119e-04\n",
      "Epoch 6/50\n",
      "38/38 - 6s - 149ms/step - accuracy: 0.9950 - loss: 0.0112 - val_accuracy: 0.9900 - val_loss: 0.0324 - learning_rate: 1.8560e-04\n",
      "Epoch 7/50\n",
      "38/38 - 6s - 149ms/step - accuracy: 0.9941 - loss: 0.0132 - val_accuracy: 0.9900 - val_loss: 0.0312 - learning_rate: 1.8560e-04\n",
      "Epoch 8/50\n",
      "\n",
      "Epoch 8: ReduceLROnPlateau reducing learning rate to 9.279753430746496e-05.\n",
      "38/38 - 6s - 150ms/step - accuracy: 0.9941 - loss: 0.0121 - val_accuracy: 0.9900 - val_loss: 0.0359 - learning_rate: 1.8560e-04\n",
      "Epoch 9/50\n",
      "38/38 - 6s - 152ms/step - accuracy: 0.9975 - loss: 0.0068 - val_accuracy: 0.9933 - val_loss: 0.0243 - learning_rate: 9.2798e-05\n",
      "Epoch 10/50\n",
      "38/38 - 6s - 152ms/step - accuracy: 0.9950 - loss: 0.0109 - val_accuracy: 0.9933 - val_loss: 0.0184 - learning_rate: 9.2798e-05\n",
      "Epoch 11/50\n",
      "38/38 - 6s - 149ms/step - accuracy: 0.9966 - loss: 0.0069 - val_accuracy: 0.9967 - val_loss: 0.0067 - learning_rate: 9.2798e-05\n",
      "Epoch 12/50\n",
      "38/38 - 6s - 152ms/step - accuracy: 0.9983 - loss: 0.0080 - val_accuracy: 0.9933 - val_loss: 0.0122 - learning_rate: 9.2798e-05\n",
      "Epoch 13/50\n",
      "38/38 - 6s - 162ms/step - accuracy: 0.9975 - loss: 0.0050 - val_accuracy: 0.9933 - val_loss: 0.0140 - learning_rate: 9.2798e-05\n",
      "Epoch 14/50\n",
      "38/38 - 7s - 182ms/step - accuracy: 0.9950 - loss: 0.0107 - val_accuracy: 1.0000 - val_loss: 0.0062 - learning_rate: 9.2798e-05\n",
      "Epoch 15/50\n",
      "38/38 - 6s - 166ms/step - accuracy: 0.9983 - loss: 0.0062 - val_accuracy: 0.9967 - val_loss: 0.0058 - learning_rate: 9.2798e-05\n",
      "Epoch 16/50\n",
      "38/38 - 6s - 154ms/step - accuracy: 0.9983 - loss: 0.0021 - val_accuracy: 0.9933 - val_loss: 0.0132 - learning_rate: 9.2798e-05\n",
      "Epoch 17/50\n",
      "38/38 - 6s - 156ms/step - accuracy: 0.9966 - loss: 0.0050 - val_accuracy: 0.9933 - val_loss: 0.0087 - learning_rate: 9.2798e-05\n",
      "Epoch 18/50\n",
      "\n",
      "Epoch 18: ReduceLROnPlateau reducing learning rate to 4.639876715373248e-05.\n",
      "38/38 - 6s - 156ms/step - accuracy: 0.9983 - loss: 0.0051 - val_accuracy: 0.9933 - val_loss: 0.0201 - learning_rate: 9.2798e-05\n",
      "Epoch 19/50\n",
      "38/38 - 6s - 151ms/step - accuracy: 0.9992 - loss: 0.0066 - val_accuracy: 0.9900 - val_loss: 0.0202 - learning_rate: 4.6399e-05\n",
      "Epoch 20/50\n",
      "38/38 - 6s - 152ms/step - accuracy: 0.9983 - loss: 0.0031 - val_accuracy: 0.9933 - val_loss: 0.0189 - learning_rate: 4.6399e-05\n",
      "Epoch 21/50\n",
      "\n",
      "Epoch 21: ReduceLROnPlateau reducing learning rate to 2.319938357686624e-05.\n",
      "38/38 - 6s - 149ms/step - accuracy: 1.0000 - loss: 0.0012 - val_accuracy: 0.9933 - val_loss: 0.0262 - learning_rate: 4.6399e-05\n",
      "Epoch 22/50\n",
      "38/38 - 6s - 151ms/step - accuracy: 0.9983 - loss: 0.0026 - val_accuracy: 0.9933 - val_loss: 0.0210 - learning_rate: 2.3199e-05\n",
      "Epoch 23/50\n",
      "38/38 - 6s - 154ms/step - accuracy: 1.0000 - loss: 0.0019 - val_accuracy: 0.9933 - val_loss: 0.0229 - learning_rate: 2.3199e-05\n",
      "Epoch 24/50\n",
      "\n",
      "Epoch 24: early stopping triggered. Best val_accuracy: 1.0000\n",
      "\n",
      "Epoch 24: ReduceLROnPlateau reducing learning rate to 1.159969178843312e-05.\n",
      "38/38 - 6s - 150ms/step - accuracy: 1.0000 - loss: 0.0016 - val_accuracy: 0.9933 - val_loss: 0.0229 - learning_rate: 2.3199e-05\n"
     ]
    }
   ],
   "source": [
    "# Data about best model\n",
    "print(best_model.summary())\n",
    "\n",
    "# Retrain the best model\n",
    "history = best_model.fit(\n",
    "    X_train, y_train,\n",
    "    epochs=50,\n",
    "    batch_size=32,\n",
    "    validation_data=(X_val, y_val),\n",
    "    callbacks=[\n",
    "        EarlyStoppingWithThreshold(monitor='val_accuracy', patience=10, threshold=0.5, verbose=1),\n",
    "        ReduceLROnPlateau(monitor='val_loss', factor=0.5, patience=3, min_lr=1e-6, verbose=1)\n",
    "    ],\n",
    "    verbose=2\n",
    ")"
   ]
  },
  {
   "cell_type": "code",
   "execution_count": 42,
   "metadata": {},
   "outputs": [
    {
     "name": "stdout",
     "output_type": "stream",
     "text": [
      "\u001b[1m10/10\u001b[0m \u001b[32m━━━━━━━━━━━━━━━━━━━━\u001b[0m\u001b[37m\u001b[0m \u001b[1m0s\u001b[0m 28ms/step\n",
      "Predicted label distribution: [243  26  30]\n",
      "Actual val label distribution: [243  28  28]\n",
      "Manual validation accuracy: 0.9933\n"
     ]
    }
   ],
   "source": [
    "# Info about model accuracy\n",
    "val_preds = best_model.predict(X_val)\n",
    "val_pred_labels = val_preds.argmax(axis=1)\n",
    "val_true_labels = y_val.argmax(axis=1)\n",
    "\n",
    "print(\"Predicted label distribution:\", np.bincount(val_pred_labels))\n",
    "print(\"Actual val label distribution:\", np.bincount(val_true_labels))\n",
    "\n",
    "# Check accuracy manually\n",
    "manual_acc = np.mean(val_pred_labels == val_true_labels)\n",
    "print(f\"Manual validation accuracy: {manual_acc:.4f}\")"
   ]
  },
  {
   "cell_type": "code",
   "execution_count": 43,
   "metadata": {},
   "outputs": [
    {
     "data": {
      "image/png": "[encoded data removed]",
      "text/plain": [
       "<Figure size 1200x400 with 2 Axes>"
      ]
     },
     "metadata": {},
     "output_type": "display_data"
    }
   ],
   "source": [
    "# Plot training history\n",
    "plt.figure(figsize=(12, 4))\n",
    "\n",
    "# Accuracy\n",
    "plt.subplot(1, 2, 1)\n",
    "plt.plot(history.history['accuracy'], label='Train Acc')\n",
    "plt.plot(history.history['val_accuracy'], label='Val Acc')\n",
    "plt.title('Model Accuracy')\n",
    "plt.xlabel('Epoch')\n",
    "plt.ylabel('Accuracy')\n",
    "plt.legend()\n",
    "\n",
    "# Loss\n",
    "plt.subplot(1, 2, 2)\n",
    "plt.plot(history.history['loss'], label='Train Loss')\n",
    "plt.plot(history.history['val_loss'], label='Val Loss')\n",
    "plt.title('Model Loss')\n",
    "plt.xlabel('Epoch')\n",
    "plt.ylabel('Loss')\n",
    "plt.legend()\n",
    "\n",
    "plt.tight_layout()\n",
    "plt.show()"
   ]
  },
  {
   "cell_type": "code",
   "execution_count": 44,
   "metadata": {},
   "outputs": [
    {
     "name": "stdout",
     "output_type": "stream",
     "text": [
      "\u001b[1m10/10\u001b[0m \u001b[32m━━━━━━━━━━━━━━━━━━━━\u001b[0m\u001b[37m\u001b[0m \u001b[1m0s\u001b[0m 26ms/step\n"
     ]
    },
    {
     "data": {
      "image/png": "[encoded data removed]",
      "text/plain": [
       "<Figure size 640x480 with 2 Axes>"
      ]
     },
     "metadata": {},
     "output_type": "display_data"
    }
   ],
   "source": [
    "# Confusion matrix\n",
    "val_preds = best_model.predict(X_val)\n",
    "val_pred_labels = val_preds.argmax(axis=1)\n",
    "val_true_labels = y_val.argmax(axis=1)\n",
    "\n",
    "# Compute and plot confusion matrix\n",
    "cm = confusion_matrix(val_true_labels, val_pred_labels)\n",
    "disp = ConfusionMatrixDisplay(confusion_matrix=cm, display_labels=[0, 1, 2])\n",
    "\n",
    "disp.plot(cmap='Blues')\n",
    "plt.title(\"Confusion Matrix - Validation Set\")\n",
    "plt.show()"
   ]
  },
  {
   "cell_type": "markdown",
   "metadata": {},
   "source": [
    "Step 7: Predictions on test set"
   ]
  },
  {
   "cell_type": "code",
   "execution_count": 50,
   "metadata": {},
   "outputs": [
    {
     "name": "stdout",
     "output_type": "stream",
     "text": [
      "Loaded 120 test samples\n"
     ]
    }
   ],
   "source": [
    "# Load test filenames\n",
    "test_file_names = sorted([f for f in os.listdir(test_dir) if f.endswith(\".npy\")])\n",
    "\n",
    "# Load and normalize test data\n",
    "X_test = []\n",
    "\n",
    "for fname in test_file_names:\n",
    "    path = os.path.join(test_dir, fname)\n",
    "    sample = np.load(path)\n",
    "    X_test.append(sample)\n",
    "\n",
    "X_test = np.array(X_test).astype(\"float32\")\n",
    "\n",
    "# Apply Z-score normalization using train mean/std\n",
    "X_test = (X_test - X_mean) / X_std\n",
    "\n",
    "# Reshape for CNN input\n",
    "X_test = X_test.reshape((-1, 72, 48, 1))\n",
    "\n",
    "print(f\"Loaded {X_test.shape[0]} test samples\")"
   ]
  },
  {
   "cell_type": "code",
   "execution_count": 51,
   "metadata": {},
   "outputs": [
    {
     "name": "stdout",
     "output_type": "stream",
     "text": [
      "\u001b[1m4/4\u001b[0m \u001b[32m━━━━━━━━━━━━━━━━━━━━\u001b[0m\u001b[37m\u001b[0m \u001b[1m0s\u001b[0m 27ms/step\n",
      "Predicted labels: [1 0 0 0 0 0 1 0 0 1]\n"
     ]
    }
   ],
   "source": [
    "# Predict class probabilities\n",
    "y_test_probs = best_model.predict(X_test)\n",
    "\n",
    "# Convert to class labels (0, 1, 2)\n",
    "y_test_pred = y_test_probs.argmax(axis=1)\n",
    "\n",
    "# Preview\n",
    "print(\"Predicted labels:\", y_test_pred[:10])"
   ]
  },
  {
   "cell_type": "markdown",
   "metadata": {},
   "source": [
    "Step 8: Save Kaggle Submission File"
   ]
  },
  {
   "cell_type": "code",
   "execution_count": 54,
   "metadata": {},
   "outputs": [
    {
     "name": "stdout",
     "output_type": "stream",
     "text": [
      "[INFO] Submission file saved: submission.csv\n",
      "      ID  target\n",
      "0      0       1\n",
      "1      1       0\n",
      "2      2       0\n",
      "3      3       0\n",
      "4      4       0\n",
      "..   ...     ...\n",
      "115  115       0\n",
      "116  116       0\n",
      "117  117       0\n",
      "118  118       0\n",
      "119  119       0\n",
      "\n",
      "[120 rows x 2 columns]\n"
     ]
    }
   ],
   "source": [
    "# Load test_format.csv\n",
    "test_format_path = os.path.join(dataset_dir, \"test_format.csv\")\n",
    "submission_df = pd.read_csv(test_format_path)\n",
    "\n",
    "# Add predicted labels\n",
    "submission_df[\"target\"] = y_test_pred\n",
    "\n",
    "# Save to CSV for Kaggle\n",
    "submission_file = \"submission.csv\"\n",
    "submission_df.to_csv(submission_file, index=False)\n",
    "\n",
    "print(f\"[INFO] Submission file saved: {submission_file}\")\n",
    "print(submission_df)"
   ]
  }
 ],
 "metadata": {
  "kernelspec": {
   "display_name": "Python 3",
   "language": "python",
   "name": "python3"
  },
  "language_info": {
   "codemirror_mode": {
    "name": "ipython",
    "version": 3
   },
   "file_extension": ".py",
   "mimetype": "text/x-python",
   "name": "python",
   "nbconvert_exporter": "python",
   "pygments_lexer": "ipython3",
   "version": "3.11.2"
  }
 },
 "nbformat": 4,
 "nbformat_minor": 2
}
