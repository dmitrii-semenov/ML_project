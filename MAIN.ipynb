{
 "cells": [
  {
   "cell_type": "markdown",
   "metadata": {},
   "source": [
    "# MPA-MLF: Final project"
   ]
  },
  {
   "cell_type": "markdown",
   "metadata": {},
   "source": [
    "Made by Dmitrii Semenov, Josef Pecka"
   ]
  },
  {
   "cell_type": "markdown",
   "metadata": {},
   "source": [
    "Step 1: Import libraries"
   ]
  },
  {
   "cell_type": "code",
   "execution_count": 7,
   "metadata": {},
   "outputs": [],
   "source": [
    "# Import general libraries\n",
    "import os\n",
    "import numpy as np\n",
    "import pandas as pd\n",
    "import matplotlib\n",
    "import matplotlib.pyplot as plt\n",
    "\n",
    "# Import main functions for ML\n",
    "from tensorflow import keras\n",
    "from keras.models import Sequential\n",
    "from keras.layers import Conv2D, MaxPooling2D, Flatten, Dense, Dropout, BatchNormalization\n",
    "from keras.optimizers import Adam\n",
    "from keras.callbacks import EarlyStopping, ReduceLROnPlateau\n",
    "\n",
    "# Import Tuner\n",
    "from keras_tuner.tuners import RandomSearch\n",
    "from keras_tuner.engine.hyperparameters import HyperParameters\n",
    "\n",
    "# Set plot font \n",
    "font = {'weight' : 'bold',\n",
    "        'size'   : 12}\n",
    "\n",
    "matplotlib.rc('font', **font)"
   ]
  },
  {
   "cell_type": "markdown",
   "metadata": {},
   "source": [
    "Step 2: Load input files"
   ]
  },
  {
   "cell_type": "code",
   "execution_count": null,
   "metadata": {},
   "outputs": [
    {
     "name": "stdout",
     "output_type": "stream",
     "text": [
      "        ID  target\n",
      "0        0       0\n",
      "1        1       0\n",
      "2        2       0\n",
      "3        3       0\n",
      "4        4       0\n",
      "...    ...     ...\n",
      "1486  1486       0\n",
      "1487  1487       1\n",
      "1488  1488       0\n",
      "1489  1489       0\n",
      "1490  1490       0\n",
      "\n",
      "[1491 rows x 2 columns]\n",
      "Label sample:\n",
      "   ID  target\n",
      "0   0       0\n",
      "1   1       0\n",
      "2   2       0\n",
      "3   3       0\n",
      "4   4       0\n"
     ]
    }
   ],
   "source": [
    "# Set dataset paths\n",
    "DATASET_DIR = \"\"\n",
    "TRAIN_DIR = os.path.join(DATASET_DIR, \"Train\")\n",
    "TEST_DIR = os.path.join(DATASET_DIR, \"Test\")\n",
    "LABELS_PATH = os.path.join(DATASET_DIR, \"label_train.csv\")\n",
    "TEST_FORMAT_PATH = os.path.join(DATASET_DIR, \"test_format.csv\")\n",
    "\n",
    "# Load labels file\n",
    "labels_df = pd.read_csv(LABELS_PATH)"
   ]
  }
 ],
 "metadata": {
  "kernelspec": {
   "display_name": "Python 3",
   "language": "python",
   "name": "python3"
  },
  "language_info": {
   "codemirror_mode": {
    "name": "ipython",
    "version": 3
   },
   "file_extension": ".py",
   "mimetype": "text/x-python",
   "name": "python",
   "nbconvert_exporter": "python",
   "pygments_lexer": "ipython3",
   "version": "3.11.2"
  }
 },
 "nbformat": 4,
 "nbformat_minor": 2
}
