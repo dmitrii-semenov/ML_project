{
 "cells": [
  {
   "cell_type": "markdown",
   "metadata": {},
   "source": [
    "# MPA-MLF: Final project"
   ]
  },
  {
   "cell_type": "markdown",
   "metadata": {},
   "source": [
    "Made by Dmitrii Semenov, Josef Pecka"
   ]
  },
  {
   "cell_type": "markdown",
   "metadata": {},
   "source": [
    "Step 1: Import libraries"
   ]
  },
  {
   "cell_type": "code",
   "execution_count": 1,
   "metadata": {},
   "outputs": [],
   "source": [
    "# Import general libraries\n",
    "import os\n",
    "import numpy as np\n",
    "import pandas as pd\n",
    "import matplotlib\n",
    "import matplotlib.pyplot as plt\n",
    "\n",
    "# Import main functions for ML\n",
    "from tensorflow import keras\n",
    "from keras.models import Sequential\n",
    "from keras.layers import Conv2D, MaxPooling2D, Flatten, Dense, Dropout, BatchNormalization\n",
    "from keras.optimizers import Adam\n",
    "from keras.utils import to_categorical\n",
    "from keras.callbacks import EarlyStopping, ReduceLROnPlateau\n",
    "from sklearn.model_selection import train_test_split\n",
    "\n",
    "\n",
    "# Import Tuner\n",
    "from keras_tuner.tuners import RandomSearch\n",
    "from keras_tuner.engine.hyperparameters import HyperParameters\n",
    "\n",
    "# Import confusion matrix fucntion\n",
    "from sklearn.metrics import confusion_matrix, ConfusionMatrixDisplay\n",
    "\n",
    "# Set plot font \n",
    "font = {'weight' : 'bold',\n",
    "        'size'   : 12}\n",
    "\n",
    "matplotlib.rc('font', **font)"
   ]
  },
  {
   "cell_type": "markdown",
   "metadata": {},
   "source": [
    "Step 2: Load input files"
   ]
  },
  {
   "cell_type": "code",
   "execution_count": 2,
   "metadata": {},
   "outputs": [
    {
     "name": "stdout",
     "output_type": "stream",
     "text": [
      "[INFO] Loaded 1491 samples of shape (72, 48)\n",
      "[INFO] Max value of X data 76.52984619140625\n",
      "[INFO] Min value of X data -66.49512481689453\n"
     ]
    }
   ],
   "source": [
    "# Set dataset paths\n",
    "dataset_dir = \"\"\n",
    "train_dir = os.path.join(dataset_dir, \"Train\")\n",
    "test_dir = os.path.join(dataset_dir, \"Test\")\n",
    "labels_path = os.path.join(dataset_dir, \"label_train.csv\")\n",
    "test_format_path = os.path.join(dataset_dir, \"test_format.csv\")\n",
    "\n",
    "# Load labels file\n",
    "labels_df = pd.read_csv(labels_path)\n",
    "\n",
    "# Prepare containers\n",
    "X = []\n",
    "y = []\n",
    "\n",
    "# Loop through each file ID\n",
    "for _, row in labels_df.iterrows():\n",
    "    file_name = f\"{row['ID']}.npy\"\n",
    "    file_path = os.path.join(train_dir, file_name)\n",
    "    try:\n",
    "        sample = np.load(file_path)\n",
    "        X.append(sample)\n",
    "        y.append(row['target'])\n",
    "    except Exception as e:\n",
    "        print(f\"[Error] Could not load {file_name}: {e}\")\n",
    "\n",
    "# Convert to NumPy arrays\n",
    "X = np.array(X, dtype=np.float32)\n",
    "y = np.array(y, dtype=np.int32)\n",
    "\n",
    "print(f\"[INFO] Loaded {X.shape[0]} samples of shape {X.shape[1:]}\")\n",
    "print(f\"[INFO] Max value of X data {np.max(X)}\")\n",
    "print(f\"[INFO] Min value of X data {np.min(X)}\")\n"
   ]
  },
  {
   "cell_type": "markdown",
   "metadata": {},
   "source": [
    "Step 3: Data preprocessing"
   ]
  },
  {
   "cell_type": "code",
   "execution_count": 3,
   "metadata": {},
   "outputs": [
    {
     "name": "stdout",
     "output_type": "stream",
     "text": [
      "[INFO] Mean value of data after Z-score normalizations: -4.2031363278738354e-08\n",
      "X_train shape: (1192, 72, 48, 1), X_val shape: (299, 72, 48, 1)\n",
      "y_train shape: (1192, 3), y_val shape: (299, 3)\n"
     ]
    }
   ],
   "source": [
    "# Z-score normalization\n",
    "X = X.astype(\"float32\")\n",
    "X_mean = X.mean()\n",
    "X_std = X.std()\n",
    "X = (X - X_mean) / X_std\n",
    "\n",
    "print(f\"[INFO] Mean value of data after Z-score normalizations: {np.mean(X)}\")\n",
    "\n",
    "# Reshape for CNN input\n",
    "X = X.reshape((-1, 72, 48, 1))\n",
    "\n",
    "# One-hot encode labels\n",
    "NUM_CLASSES = 3\n",
    "y = to_categorical(y, NUM_CLASSES)\n",
    "\n",
    "# Train-validation split\n",
    "X_train, X_val, y_train, y_val = train_test_split(X, y,\n",
    "    test_size=0.2,\n",
    "    stratify=y.argmax(axis=1),\n",
    "    random_state=42\n",
    ")\n",
    "\n",
    "# Print result\n",
    "print(f\"X_train shape: {X_train.shape}, X_val shape: {X_val.shape}\")\n",
    "print(f\"y_train shape: {y_train.shape}, y_val shape: {y_val.shape}\")"
   ]
  },
  {
   "cell_type": "markdown",
   "metadata": {},
   "source": [
    "Visualize class distribution in training and validation sets"
   ]
  },
  {
   "cell_type": "code",
   "execution_count": 4,
   "metadata": {},
   "outputs": [
    {
     "data": {
      "image/png": "[encoded data removed]",
      "text/plain": [
       "<Figure size 1000x400 with 2 Axes>"
      ]
     },
     "metadata": {},
     "output_type": "display_data"
    }
   ],
   "source": [
    "# Convert one-hot labels back to class indices\n",
    "y_train_labels = y_train.argmax(axis=1)\n",
    "y_val_labels = y_val.argmax(axis=1)\n",
    "\n",
    "# Plot\n",
    "plt.figure(figsize=(10, 4))\n",
    "\n",
    "# Training set\n",
    "plt.subplot(1, 2, 1)\n",
    "plt.hist(y_train_labels, bins=np.arange(NUM_CLASSES + 1) - 0.5, rwidth=0.8, color='skyblue', edgecolor='black')\n",
    "plt.xticks(range(NUM_CLASSES))\n",
    "plt.title(\"Training Set Class Distribution\")\n",
    "plt.xlabel(\"Class\")\n",
    "plt.ylabel(\"Count\")\n",
    "\n",
    "# Validation set\n",
    "plt.subplot(1, 2, 2)\n",
    "plt.hist(y_val_labels, bins=np.arange(NUM_CLASSES + 1) - 0.5, rwidth=0.8, color='salmon', edgecolor='black')\n",
    "plt.xticks(range(NUM_CLASSES))\n",
    "plt.title(\"Validation Set Class Distribution\")\n",
    "plt.xlabel(\"Class\")\n",
    "plt.ylabel(\"Count\")\n",
    "\n",
    "plt.tight_layout()\n",
    "plt.show()"
   ]
  },
  {
   "cell_type": "markdown",
   "metadata": {},
   "source": [
    "Step 4: CNN model definition + Keras Tuner"
   ]
  },
  {
   "cell_type": "code",
   "execution_count": 5,
   "metadata": {},
   "outputs": [],
   "source": [
    "def build_model(hp):\n",
    "    model = Sequential()\n",
    "    \n",
    "    # Input layer\n",
    "    model.add(Conv2D(\n",
    "        filters=hp.Choice(\"filters_1\", [32, 64, 128, 256, 512]),\n",
    "        kernel_size=hp.Choice(\"kernel_size_1\", [3, 5]),\n",
    "        activation='relu',\n",
    "        input_shape=(72, 48, 1)\n",
    "    ))\n",
    "    model.add(BatchNormalization())\n",
    "    model.add(MaxPooling2D(pool_size=2))\n",
    "    \n",
    "    # Optional Conv layer 2\n",
    "    if hp.Boolean(\"add_conv_2\"):\n",
    "        model.add(Conv2D(\n",
    "            filters=hp.Choice(\"filters_2\", [32, 64, 128, 256, 512]),\n",
    "            kernel_size=hp.Choice(\"kernel_size_2\", [3, 5]),\n",
    "            activation='relu'\n",
    "        ))\n",
    "        model.add(BatchNormalization())\n",
    "        model.add(MaxPooling2D(pool_size=2))\n",
    "\n",
    "    # Optional Conv layer 3\n",
    "    if hp.Boolean(\"add_conv_3\"):\n",
    "        model.add(Conv2D(\n",
    "            filters=hp.Choice(\"filters_3\", [32, 64, 128, 256, 512]),\n",
    "            kernel_size=hp.Choice(\"kernel_size_3\", [3, 5]),\n",
    "            activation='relu'\n",
    "        ))\n",
    "        model.add(BatchNormalization())\n",
    "        model.add(MaxPooling2D(pool_size=2))\n",
    "\n",
    "    model.add(Flatten())\n",
    "    \n",
    "    model.add(Dense(\n",
    "        units=hp.Int(\"dense_units\", min_value=64, max_value=512, step=64),\n",
    "        activation='relu'\n",
    "    ))\n",
    "    model.add(Dropout(rate=hp.Float(\"dropout\", 0.2, 0.5, step=0.1)))\n",
    "\n",
    "    model.add(Dense(3, activation=\"softmax\"))\n",
    "\n",
    "    model.compile(\n",
    "        optimizer=keras.optimizers.Adam(\n",
    "            hp.Float(\"learning_rate\", 1e-4, 1e-2, sampling='log')),\n",
    "        loss=\"categorical_crossentropy\",\n",
    "        metrics=[\"accuracy\"]\n",
    "    )\n",
    "    \n",
    "    return model"
   ]
  },
  {
   "cell_type": "markdown",
   "metadata": {},
   "source": [
    "Step 5: Run Keras Tuner to Find the Best Hyperparameters\n"
   ]
  },
  {
   "cell_type": "code",
   "execution_count": 6,
   "metadata": {},
   "outputs": [
    {
     "name": "stdout",
     "output_type": "stream",
     "text": [
      "Trial 20 Complete [00h 02m 40s]\n",
      "val_accuracy: 0.09364548325538635\n",
      "\n",
      "Best val_accuracy So Far: 0.9966555237770081\n",
      "Total elapsed time: 00h 13m 26s\n",
      "Results summary\n",
      "Results in tuner_results/cnn_tuning\n",
      "Showing 10 best trials\n",
      "Objective(name=\"val_accuracy\", direction=\"max\")\n",
      "\n",
      "Trial 08 summary\n",
      "Hyperparameters:\n",
      "filters_1: 256\n",
      "kernel_size_1: 5\n",
      "add_conv_2: False\n",
      "add_conv_3: False\n",
      "dense_units: 128\n",
      "dropout: 0.2\n",
      "learning_rate: 0.00022102350500721615\n",
      "filters_2: 256\n",
      "kernel_size_2: 5\n",
      "filters_3: 32\n",
      "kernel_size_3: 5\n",
      "Score: 0.9966555237770081\n",
      "\n",
      "Trial 11 summary\n",
      "Hyperparameters:\n",
      "filters_1: 64\n",
      "kernel_size_1: 3\n",
      "add_conv_2: False\n",
      "add_conv_3: False\n",
      "dense_units: 128\n",
      "dropout: 0.30000000000000004\n",
      "learning_rate: 0.0018289481230968148\n",
      "filters_2: 256\n",
      "kernel_size_2: 3\n",
      "filters_3: 64\n",
      "kernel_size_3: 5\n",
      "Score: 0.9933110475540161\n",
      "\n",
      "Trial 10 summary\n",
      "Hyperparameters:\n",
      "filters_1: 64\n",
      "kernel_size_1: 3\n",
      "add_conv_2: False\n",
      "add_conv_3: False\n",
      "dense_units: 512\n",
      "dropout: 0.30000000000000004\n",
      "learning_rate: 0.0072136325692250145\n",
      "filters_2: 512\n",
      "kernel_size_2: 3\n",
      "filters_3: 512\n",
      "kernel_size_3: 5\n",
      "Score: 0.9899665713310242\n",
      "\n",
      "Trial 14 summary\n",
      "Hyperparameters:\n",
      "filters_1: 128\n",
      "kernel_size_1: 3\n",
      "add_conv_2: False\n",
      "add_conv_3: False\n",
      "dense_units: 192\n",
      "dropout: 0.30000000000000004\n",
      "learning_rate: 0.004018046898099643\n",
      "filters_2: 32\n",
      "kernel_size_2: 5\n",
      "filters_3: 128\n",
      "kernel_size_3: 3\n",
      "Score: 0.9899665713310242\n",
      "\n",
      "Trial 03 summary\n",
      "Hyperparameters:\n",
      "filters_1: 256\n",
      "kernel_size_1: 3\n",
      "add_conv_2: False\n",
      "add_conv_3: False\n",
      "dense_units: 512\n",
      "dropout: 0.4\n",
      "learning_rate: 0.004782203154550918\n",
      "filters_2: 128\n",
      "kernel_size_2: 3\n",
      "filters_3: 128\n",
      "kernel_size_3: 5\n",
      "Score: 0.9598662257194519\n",
      "\n",
      "Trial 05 summary\n",
      "Hyperparameters:\n",
      "filters_1: 256\n",
      "kernel_size_1: 3\n",
      "add_conv_2: False\n",
      "add_conv_3: True\n",
      "dense_units: 64\n",
      "dropout: 0.2\n",
      "learning_rate: 0.007765767620141046\n",
      "filters_2: 256\n",
      "kernel_size_2: 3\n",
      "filters_3: 64\n",
      "kernel_size_3: 5\n",
      "Score: 0.8762542009353638\n",
      "\n",
      "Trial 04 summary\n",
      "Hyperparameters:\n",
      "filters_1: 32\n",
      "kernel_size_1: 5\n",
      "add_conv_2: False\n",
      "add_conv_3: True\n",
      "dense_units: 64\n",
      "dropout: 0.4\n",
      "learning_rate: 0.0015315675711345933\n",
      "filters_2: 256\n",
      "kernel_size_2: 5\n",
      "filters_3: 512\n",
      "kernel_size_3: 5\n",
      "Score: 0.5183946490287781\n",
      "\n",
      "Trial 01 summary\n",
      "Hyperparameters:\n",
      "filters_1: 32\n",
      "kernel_size_1: 5\n",
      "add_conv_2: False\n",
      "add_conv_3: True\n",
      "dense_units: 512\n",
      "dropout: 0.4\n",
      "learning_rate: 0.003686469542052108\n",
      "filters_2: 256\n",
      "kernel_size_2: 5\n",
      "filters_3: 512\n",
      "kernel_size_3: 3\n",
      "Score: 0.1872909665107727\n",
      "\n",
      "Trial 15 summary\n",
      "Hyperparameters:\n",
      "filters_1: 32\n",
      "kernel_size_1: 5\n",
      "add_conv_2: False\n",
      "add_conv_3: True\n",
      "dense_units: 320\n",
      "dropout: 0.30000000000000004\n",
      "learning_rate: 0.0011425812573577809\n",
      "filters_2: 64\n",
      "kernel_size_2: 3\n",
      "filters_3: 64\n",
      "kernel_size_3: 5\n",
      "Score: 0.18394649028778076\n",
      "\n",
      "Trial 02 summary\n",
      "Hyperparameters:\n",
      "filters_1: 64\n",
      "kernel_size_1: 3\n",
      "add_conv_2: False\n",
      "add_conv_3: True\n",
      "dense_units: 384\n",
      "dropout: 0.2\n",
      "learning_rate: 0.0003918641276645972\n",
      "filters_2: 256\n",
      "kernel_size_2: 3\n",
      "filters_3: 128\n",
      "kernel_size_3: 5\n",
      "Score: 0.11705685406923294\n"
     ]
    },
    {
     "name": "stderr",
     "output_type": "stream",
     "text": [
      "/Library/Frameworks/Python.framework/Versions/3.11/lib/python3.11/site-packages/keras/src/saving/saving_lib.py:757: UserWarning: Skipping variable loading for optimizer 'adam', because it has 2 variables whereas the saved optimizer has 18 variables. \n",
      "  saveable.load_own_variables(weights_store.get(inner_path))\n"
     ]
    }
   ],
   "source": [
    "# Initialize the tuner\n",
    "tuner = RandomSearch(\n",
    "    build_model,\n",
    "    objective='val_accuracy',\n",
    "    max_trials=20,            # You can increase this for better results\n",
    "    executions_per_trial=1,    # Runs per model setting\n",
    "    directory='tuner_results',\n",
    "    project_name='cnn_tuning'\n",
    ")\n",
    "\n",
    "# Tuner summary\n",
    "tuner.search_space_summary()\n",
    "\n",
    "# Run the tuner\n",
    "tuner.search(\n",
    "    X_train, y_train,\n",
    "    epochs=20,\n",
    "    validation_data=(X_val, y_val),\n",
    "    callbacks=[\n",
    "        EarlyStopping(patience=3, restore_best_weights=True)\n",
    "    ],\n",
    "    verbose=2\n",
    ")\n",
    "\n",
    "# Show the best model found\n",
    "tuner.results_summary()\n",
    "\n",
    "# Get the best model\n",
    "best_model = tuner.get_best_models(num_models=1)[0]"
   ]
  },
  {
   "cell_type": "markdown",
   "metadata": {},
   "source": [
    "Step 6: Final training of the best model and evaluation"
   ]
  },
  {
   "cell_type": "code",
   "execution_count": 7,
   "metadata": {},
   "outputs": [
    {
     "name": "stdout",
     "output_type": "stream",
     "text": [
      "Epoch 1/20\n",
      "38/38 - 6s - 163ms/step - accuracy: 0.9622 - loss: 0.1861 - val_accuracy: 0.9933 - val_loss: 0.6019\n",
      "Epoch 2/20\n",
      "38/38 - 6s - 148ms/step - accuracy: 0.9908 - loss: 0.0319 - val_accuracy: 0.9967 - val_loss: 0.3984\n",
      "Epoch 3/20\n",
      "38/38 - 5s - 136ms/step - accuracy: 0.9899 - loss: 0.0338 - val_accuracy: 0.9365 - val_loss: 0.4232\n",
      "Epoch 4/20\n",
      "38/38 - 5s - 129ms/step - accuracy: 0.9924 - loss: 0.0218 - val_accuracy: 0.9933 - val_loss: 0.1473\n",
      "Epoch 5/20\n",
      "38/38 - 5s - 128ms/step - accuracy: 0.9966 - loss: 0.0115 - val_accuracy: 0.9933 - val_loss: 0.1167\n",
      "Epoch 6/20\n",
      "38/38 - 6s - 147ms/step - accuracy: 0.9966 - loss: 0.0099 - val_accuracy: 0.9933 - val_loss: 0.1151\n",
      "Epoch 7/20\n",
      "38/38 - 5s - 141ms/step - accuracy: 0.9950 - loss: 0.0074 - val_accuracy: 0.9933 - val_loss: 0.0404\n",
      "Epoch 8/20\n",
      "38/38 - 5s - 130ms/step - accuracy: 0.9941 - loss: 0.0110 - val_accuracy: 0.9967 - val_loss: 0.0172\n",
      "Epoch 9/20\n",
      "38/38 - 5s - 127ms/step - accuracy: 0.9975 - loss: 0.0106 - val_accuracy: 0.9933 - val_loss: 0.0180\n",
      "Epoch 10/20\n",
      "38/38 - 5s - 128ms/step - accuracy: 0.9983 - loss: 0.0067 - val_accuracy: 0.9967 - val_loss: 0.0215\n",
      "Epoch 11/20\n",
      "38/38 - 5s - 136ms/step - accuracy: 0.9983 - loss: 0.0061 - val_accuracy: 0.9933 - val_loss: 0.0170\n",
      "Epoch 12/20\n",
      "38/38 - 5s - 133ms/step - accuracy: 0.9899 - loss: 0.0185 - val_accuracy: 0.9933 - val_loss: 0.0267\n",
      "Epoch 13/20\n",
      "38/38 - 5s - 132ms/step - accuracy: 0.9933 - loss: 0.0135 - val_accuracy: 0.9933 - val_loss: 0.0283\n",
      "Epoch 14/20\n",
      "38/38 - 5s - 129ms/step - accuracy: 0.9908 - loss: 0.0186 - val_accuracy: 0.9933 - val_loss: 0.0201\n"
     ]
    }
   ],
   "source": [
    "# Retrain the best model\n",
    "history = best_model.fit(\n",
    "    X_train, y_train,\n",
    "    epochs=20,\n",
    "    batch_size=32,\n",
    "    validation_data=(X_val, y_val),\n",
    "    callbacks=[\n",
    "        EarlyStopping(patience=3, restore_best_weights=True)\n",
    "    ],\n",
    "    verbose=2\n",
    ")"
   ]
  },
  {
   "cell_type": "code",
   "execution_count": 8,
   "metadata": {},
   "outputs": [
    {
     "data": {
      "image/png": "[encoded data removed]",
      "text/plain": [
       "<Figure size 1200x400 with 2 Axes>"
      ]
     },
     "metadata": {},
     "output_type": "display_data"
    }
   ],
   "source": [
    "# Plot training history\n",
    "plt.figure(figsize=(12, 4))\n",
    "\n",
    "# Accuracy\n",
    "plt.subplot(1, 2, 1)\n",
    "plt.plot(history.history['accuracy'], label='Train Acc')\n",
    "plt.plot(history.history['val_accuracy'], label='Val Acc')\n",
    "plt.title('Model Accuracy')\n",
    "plt.xlabel('Epoch')\n",
    "plt.ylabel('Accuracy')\n",
    "plt.legend()\n",
    "\n",
    "# Loss\n",
    "plt.subplot(1, 2, 2)\n",
    "plt.plot(history.history['loss'], label='Train Loss')\n",
    "plt.plot(history.history['val_loss'], label='Val Loss')\n",
    "plt.title('Model Loss')\n",
    "plt.xlabel('Epoch')\n",
    "plt.ylabel('Loss')\n",
    "plt.legend()\n",
    "\n",
    "plt.tight_layout()\n",
    "plt.show()"
   ]
  },
  {
   "cell_type": "markdown",
   "metadata": {},
   "source": [
    "Step 7: Predictions on test set"
   ]
  },
  {
   "cell_type": "code",
   "execution_count": 9,
   "metadata": {},
   "outputs": [
    {
     "name": "stdout",
     "output_type": "stream",
     "text": [
      "Loaded 120 test samples\n"
     ]
    }
   ],
   "source": [
    "# Load test filenames\n",
    "test_file_names = sorted([f for f in os.listdir(test_dir) if f.endswith(\".npy\")])\n",
    "\n",
    "# Load and normalize test data\n",
    "X_test = []\n",
    "\n",
    "for fname in test_file_names:\n",
    "    path = os.path.join(test_dir, fname)\n",
    "    sample = np.load(path)\n",
    "    X_test.append(sample)\n",
    "\n",
    "X_test = np.array(X_test).astype(\"float32\")\n",
    "\n",
    "# Apply Z-score normalization using train mean/std\n",
    "X_test = (X_test - X_mean) / X_std\n",
    "\n",
    "# Reshape for CNN input\n",
    "X_test = X_test.reshape((-1, 72, 48, 1))\n",
    "\n",
    "print(f\"Loaded {X_test.shape[0]} test samples\")"
   ]
  },
  {
   "cell_type": "code",
   "execution_count": 10,
   "metadata": {},
   "outputs": [
    {
     "name": "stdout",
     "output_type": "stream",
     "text": [
      "\u001b[1m4/4\u001b[0m \u001b[32m━━━━━━━━━━━━━━━━━━━━\u001b[0m\u001b[37m\u001b[0m \u001b[1m0s\u001b[0m 28ms/step\n",
      "Predicted labels: [1 0 1 0 0 2 1 2 2 1]\n"
     ]
    }
   ],
   "source": [
    "# Predict class probabilities\n",
    "y_test_probs = best_model.predict(X_test)\n",
    "\n",
    "# Convert to class labels (0, 1, 2)\n",
    "y_test_pred = y_test_probs.argmax(axis=1)\n",
    "\n",
    "# Preview\n",
    "print(\"Predicted labels:\", y_test_pred[:10])"
   ]
  },
  {
   "cell_type": "markdown",
   "metadata": {},
   "source": [
    "Step 8: Save Kaggle Submission File"
   ]
  },
  {
   "cell_type": "code",
   "execution_count": 11,
   "metadata": {},
   "outputs": [
    {
     "name": "stdout",
     "output_type": "stream",
     "text": [
      "[INFO] Submission file saved: submission.csv\n",
      "   ID  target\n",
      "0   0       1\n",
      "1   1       0\n",
      "2   2       1\n",
      "3   3       0\n",
      "4   4       0\n"
     ]
    }
   ],
   "source": [
    "# Load test_format.csv\n",
    "test_format_path = os.path.join(dataset_dir, \"test_format.csv\")\n",
    "submission_df = pd.read_csv(test_format_path)\n",
    "\n",
    "# Add predicted labels\n",
    "submission_df[\"target\"] = y_test_pred\n",
    "\n",
    "# Save to CSV for Kaggle\n",
    "submission_file = \"submission.csv\"\n",
    "submission_df.to_csv(submission_file, index=False)\n",
    "\n",
    "print(f\"[INFO] Submission file saved: {submission_file}\")\n",
    "print(submission_df.head())"
   ]
  }
 ],
 "metadata": {
  "kernelspec": {
   "display_name": "Python 3",
   "language": "python",
   "name": "python3"
  },
  "language_info": {
   "codemirror_mode": {
    "name": "ipython",
    "version": 3
   },
   "file_extension": ".py",
   "mimetype": "text/x-python",
   "name": "python",
   "nbconvert_exporter": "python",
   "pygments_lexer": "ipython3",
   "version": "3.11.2"
  }
 },
 "nbformat": 4,
 "nbformat_minor": 2
}
