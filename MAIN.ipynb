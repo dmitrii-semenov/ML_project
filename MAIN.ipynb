{
 "cells": [
  {
   "cell_type": "markdown",
   "metadata": {},
   "source": [
    "# MPA-MLF: Final project"
   ]
  },
  {
   "cell_type": "markdown",
   "metadata": {},
   "source": [
    "Made by Dmitrii Semenov, Josef Pecka"
   ]
  },
  {
   "cell_type": "markdown",
   "metadata": {},
   "source": [
    "Step 1: Import libraries"
   ]
  },
  {
   "cell_type": "code",
   "execution_count": 136,
   "metadata": {},
   "outputs": [],
   "source": [
    "# Import general libraries\n",
    "import os\n",
    "import numpy as np\n",
    "import pandas as pd\n",
    "import matplotlib\n",
    "import matplotlib.pyplot as plt\n",
    "\n",
    "# Import main functions for ML\n",
    "from tensorflow import keras\n",
    "from keras.models import Sequential\n",
    "from keras.layers import Conv2D, MaxPooling2D, Flatten, Dense, Dropout, Input\n",
    "from keras.optimizers import Adamax\n",
    "from keras.utils import to_categorical\n",
    "from keras.callbacks import Callback, ReduceLROnPlateau, EarlyStopping\n",
    "from sklearn.model_selection import train_test_split\n",
    "\n",
    "# Import hyperparameter tuner\n",
    "from keras_tuner.tuners import RandomSearch\n",
    "from keras_tuner.engine.hyperparameters import HyperParameters\n",
    "\n",
    "# Import confusion matrix fucntion\n",
    "from sklearn.metrics import confusion_matrix, ConfusionMatrixDisplay\n",
    "\n",
    "# Set plot font \n",
    "font = {'weight' : 'bold',\n",
    "        'size'   : 12}\n",
    "\n",
    "matplotlib.rc('font', **font)"
   ]
  },
  {
   "cell_type": "markdown",
   "metadata": {},
   "source": [
    "Step 2: Load input files"
   ]
  },
  {
   "cell_type": "code",
   "execution_count": 137,
   "metadata": {},
   "outputs": [
    {
     "name": "stdout",
     "output_type": "stream",
     "text": [
      "[INFO] Loaded 1491 samples of shape (72, 48)\n",
      "[INFO] Max value of X data 76.52984619140625\n",
      "[INFO] Min value of X data -66.49512481689453\n",
      "[0 0 0 ... 0 0 0]\n"
     ]
    }
   ],
   "source": [
    "# Set dataset paths\n",
    "dataset_dir = \"\"\n",
    "train_dir = os.path.join(dataset_dir, \"Train\")\n",
    "test_dir = os.path.join(dataset_dir, \"Test\")\n",
    "labels_path = os.path.join(dataset_dir, \"label_train.csv\")\n",
    "test_format_path = os.path.join(dataset_dir, \"test_format.csv\")\n",
    "\n",
    "# Load labels file and sort them in ascending order\n",
    "labels_df = pd.read_csv(labels_path)\n",
    "labels_df = labels_df.sort_values('ID').reset_index(drop=True)\n",
    "\n",
    "# Prepare containers fro data\n",
    "X = []\n",
    "y = []\n",
    "\n",
    "# Loop through each file ID\n",
    "for _, row in labels_df.iterrows():\n",
    "    file_name = f\"{row['ID']}.npy\"\n",
    "    file_path = os.path.join(train_dir, file_name)\n",
    "    try:\n",
    "        sample = np.load(file_path)\n",
    "        X.append(sample)\n",
    "        y.append(row['target'])\n",
    "    except Exception as e:\n",
    "        print(f\"[Error] Could not load {file_name}: {e}\")\n",
    "\n",
    "# Convert to NumPy arrays\n",
    "X = np.array(X, dtype=np.float32)\n",
    "y = np.array(y, dtype=np.int32)\n",
    "\n",
    "print(f\"[INFO] Loaded {X.shape[0]} samples of shape {X.shape[1:]}\")\n",
    "print(f\"[INFO] Max value of X data {np.max(X)}\")\n",
    "print(f\"[INFO] Min value of X data {np.min(X)}\")\n",
    "print(y)\n"
   ]
  },
  {
   "cell_type": "markdown",
   "metadata": {},
   "source": [
    "Step 3: Data preprocessing"
   ]
  },
  {
   "cell_type": "code",
   "execution_count": 138,
   "metadata": {},
   "outputs": [],
   "source": [
    "def data_expand(dataset, labels, multiplier=2, std=3):\n",
    "\n",
    "    '''\n",
    "    Expands dataset using data augmentation with class weights analysis: expands class 0 to the required multiplier \n",
    "    and expands class 1 and 2 data to be comparable with class 0 (in terms of data volume)\n",
    "\n",
    "    Input parameters:\n",
    "    -- dataset: original training data\n",
    "    -- labels: labels for the original training data\n",
    "    -- multiplier: number of duplicates of class 0 with noise\n",
    "    -- std: standart deviation of noise\n",
    "\n",
    "    Outputs:\n",
    "    -- Augmented dataset and labels\n",
    "    '''\n",
    "\n",
    "    class_0 = dataset[labels == 0]\n",
    "    class_1 = dataset[labels == 1]\n",
    "    class_2 = dataset[labels == 2]\n",
    "\n",
    "    print(\"Initial statistics\")\n",
    "    print(\"class_0:\", class_0.shape[0], \"\\nclass_1:\", class_1.shape[0], \"\\nclass_2:\", class_2.shape[0], \"\\n\")\n",
    "    \n",
    "    # Expand class 0\n",
    "    for k in range(multiplier):\n",
    "        class_0_aug = class_0 + np.random.normal(0, std, class_0.shape)\n",
    "        dataset = np.append(dataset, class_0_aug, 0)\n",
    "        labels = np.append(labels, np.zeros(class_0.shape[0]))\n",
    "        \n",
    "    N_class_0 = np.count_nonzero(labels == 0)\n",
    "\n",
    "    # Expand class 1\n",
    "    print(\"Expanding class_1 by:\", N_class_0 // class_1.shape[0])\n",
    "    for k in range(N_class_0 // class_1.shape[0]):\n",
    "        class_1_aug = class_1 + np.random.normal(0, std, class_1.shape)\n",
    "        dataset = np.append(dataset, class_1_aug, 0)\n",
    "        labels = np.append(labels, np.ones(class_1.shape[0]))\n",
    "\n",
    "    # Expand class 2\n",
    "    print(\"Expanding class_2 by:\", N_class_0 // class_2.shape[0])\n",
    "    for k in range(N_class_0 // class_2.shape[0]):\n",
    "        class_2_aug = class_2 + np.random.normal(0, std, class_2.shape)\n",
    "        dataset = np.append(dataset, class_2_aug, 0)\n",
    "        labels = np.append(labels, 2 * np.ones(class_2.shape[0]))    \n",
    "\n",
    "    print(\"\\nExpanded dataset\")\n",
    "    print(\"class_0:\", np.count_nonzero(labels == 0), \"\\nclass_1:\", np.count_nonzero(labels == 1), \"\\nclass_2:\", np.count_nonzero(labels == 2), \"\\n\")\n",
    "    print(\"Final size of dataset:\", dataset.shape)\n",
    "    print(\"Final size of labels:\", labels.shape)\n",
    "\n",
    "    return dataset, labels"
   ]
  },
  {
   "cell_type": "markdown",
   "metadata": {},
   "source": [
    "Data augmentation"
   ]
  },
  {
   "cell_type": "code",
   "execution_count": 139,
   "metadata": {},
   "outputs": [
    {
     "name": "stdout",
     "output_type": "stream",
     "text": [
      "X_train shape: (1491, 72, 48), X_val shape: (1491, 72, 48)\n",
      "y_train shape: (1491,), y_val shape: (1491,)\n",
      "Initial statistics\n",
      "class_0: 1209 \n",
      "class_1: 141 \n",
      "class_2: 141 \n",
      "\n",
      "Expanding class_1 by: 17\n",
      "Expanding class_2 by: 17\n",
      "\n",
      "Expanded dataset\n",
      "class_0: 2418 \n",
      "class_1: 2538 \n",
      "class_2: 2538 \n",
      "\n",
      "Final size of dataset: (7494, 72, 48)\n",
      "Final size of labels: (7494,)\n"
     ]
    }
   ],
   "source": [
    "# Print result\n",
    "print(f\"X_train shape: {X.shape}, X_val shape: {X.shape}\")\n",
    "print(f\"y_train shape: {y.shape}, y_val shape: {y.shape}\")\n",
    "\n",
    "# Expand the data (augmentation)\n",
    "X, y = data_expand(X, y, 1, 3)"
   ]
  },
  {
   "cell_type": "markdown",
   "metadata": {},
   "source": [
    "Data preprocessing - normalization, division into training and validation datasets"
   ]
  },
  {
   "cell_type": "code",
   "execution_count": 140,
   "metadata": {},
   "outputs": [
    {
     "name": "stdout",
     "output_type": "stream",
     "text": [
      "[INFO] Mean value of data after Z-score normalization: -2.7833294780066353e-07\n",
      "X_train shape: (5995, 72, 48, 1), X_val shape: (1499, 72, 48, 1)\n",
      "y_train shape: (5995, 3), y_val shape: (1499, 3)\n"
     ]
    }
   ],
   "source": [
    "# Z-score normalization\n",
    "X = X.astype(\"float32\")\n",
    "X_mean = X.mean()\n",
    "X_std = X.std()\n",
    "X = (X - X_mean) / X_std\n",
    "\n",
    "print(f\"[INFO] Mean value of data after Z-score normalization: {np.mean(X)}\")\n",
    "\n",
    "# Reshape for CNN input\n",
    "X = X.reshape((-1, 72, 48, 1))\n",
    "\n",
    "# One-hot encode labels\n",
    "NUM_CLASSES = 3\n",
    "y = to_categorical(y, NUM_CLASSES)\n",
    "\n",
    "# Train-validation split\n",
    "X_train, X_val, y_train, y_val = train_test_split(X, y,\n",
    "    test_size=0.2,\n",
    "    stratify=y.argmax(axis=1),\n",
    "    random_state=42\n",
    ")\n",
    "\n",
    "# Print result\n",
    "print(f\"X_train shape: {X_train.shape}, X_val shape: {X_val.shape}\")\n",
    "print(f\"y_train shape: {y_train.shape}, y_val shape: {y_val.shape}\")"
   ]
  },
  {
   "cell_type": "markdown",
   "metadata": {},
   "source": [
    "Visualization of class distribution in training and validation sets"
   ]
  },
  {
   "cell_type": "code",
   "execution_count": 141,
   "metadata": {},
   "outputs": [
    {
     "data": {
      "image/png": "[encoded data removed]",
      "text/plain": [
       "<Figure size 1000x400 with 2 Axes>"
      ]
     },
     "metadata": {},
     "output_type": "display_data"
    }
   ],
   "source": [
    "# Convert one-hot labels back to class indices\n",
    "y_train_labels = y_train.argmax(axis=1)\n",
    "y_val_labels = y_val.argmax(axis=1)\n",
    "\n",
    "# Plot\n",
    "plt.figure(figsize=(10, 4))\n",
    "\n",
    "# Training set\n",
    "plt.subplot(1, 2, 1)\n",
    "plt.hist(y_train_labels, bins=np.arange(NUM_CLASSES + 1) - 0.5, rwidth=0.8, color='skyblue', edgecolor='black')\n",
    "plt.xticks(range(NUM_CLASSES))\n",
    "plt.title(\"Training Set Class Distribution\")\n",
    "plt.xlabel(\"Class\")\n",
    "plt.ylabel(\"Count\")\n",
    "\n",
    "# Validation set\n",
    "plt.subplot(1, 2, 2)\n",
    "plt.hist(y_val_labels, bins=np.arange(NUM_CLASSES + 1) - 0.5, rwidth=0.8, color='salmon', edgecolor='black')\n",
    "plt.xticks(range(NUM_CLASSES))\n",
    "plt.title(\"Validation Set Class Distribution\")\n",
    "plt.xlabel(\"Class\")\n",
    "plt.ylabel(\"Count\")\n",
    "\n",
    "plt.tight_layout()\n",
    "plt.show()"
   ]
  },
  {
   "cell_type": "markdown",
   "metadata": {},
   "source": [
    "Step 4: CNN model definition with tunable parameters and their ranges"
   ]
  },
  {
   "cell_type": "code",
   "execution_count": 142,
   "metadata": {},
   "outputs": [],
   "source": [
    "'''\n",
    "CNN model structure:\n",
    "-- Input layer, shape (72,48,1)\n",
    "-- Compulsory 1st convolutional layer\n",
    "-- MaxPooling2D\n",
    "-- Optional 2nd convolutional layer\n",
    "-- MaxPooling2D\n",
    "-- Optional 3rd convolutional layer\n",
    "-- MaxPooling2D\n",
    "-- Flatten\n",
    "-- 1st Dense layer\n",
    "-- 2nd Dense layer\n",
    "-- Output layer\n",
    "'''\n",
    "\n",
    "def build_model(hp):\n",
    "    model = Sequential()\n",
    "    \n",
    "    # Input layer\n",
    "    model.add(Input(shape = (72,48,1)))\n",
    "\n",
    "    # Conv layer 1\n",
    "    model.add(Conv2D(\n",
    "        filters=hp.Choice(\"filters_1\", [64, 128, 256]),\n",
    "        kernel_size=hp.Choice(\"kernel_size_1\", [3, 5]),\n",
    "        activation='relu',\n",
    "        input_shape=(72, 48, 1)\n",
    "    ))\n",
    "    model.add(MaxPooling2D(pool_size=(2,2)))\n",
    "    \n",
    "    # Optional Conv layer 2\n",
    "    if hp.Boolean(\"add_conv_2\"):\n",
    "        model.add(Conv2D(\n",
    "            filters=hp.Choice(\"filters_2\", [64, 128, 256]),\n",
    "            kernel_size=hp.Choice(\"kernel_size_2\", [3, 5]),\n",
    "            activation='relu'\n",
    "        ))\n",
    "    model.add(MaxPooling2D(pool_size=(2,2)))\n",
    "\n",
    "    # Optional Conv layer 3\n",
    "    if hp.Boolean(\"add_conv_3\"):\n",
    "        model.add(Conv2D(\n",
    "            filters=hp.Choice(\"filters_3\", [64, 128, 256]),\n",
    "            kernel_size=hp.Choice(\"kernel_size_3\", [3, 5]),\n",
    "            activation='relu'\n",
    "        ))\n",
    "    model.add(MaxPooling2D(pool_size=(2,2)))\n",
    "\n",
    "    model.add(Flatten())\n",
    "    \n",
    "    # 1st Dense layer\n",
    "    model.add(Dense(\n",
    "        units=hp.Choice(\"dense_units\", [64, 128, 256]),\n",
    "        activation='relu'\n",
    "    ))\n",
    "\n",
    "    # Hyperparameter - dropout\n",
    "    model.add(Dropout(rate=hp.Float(\"dropout\", 0.2, 0.5, step=0.1)))\n",
    "\n",
    "    # 2nd Dense layer\n",
    "    model.add(Dense(\n",
    "        units=hp.Choice(\"dense_units\", [16, 32, 64]),\n",
    "        activation='relu'\n",
    "    ))\n",
    "\n",
    "    # Output layer\n",
    "    model.add(Dense(3, activation=\"softmax\"))\n",
    "\n",
    "    # Compilation options\n",
    "    model.compile(\n",
    "        optimizer=keras.optimizers.Adamax(\n",
    "            hp.Float(\"learning_rate\", 1e-4, 1e-2, sampling='log')),\n",
    "        loss=\"categorical_crossentropy\",\n",
    "        metrics=[\"accuracy\"]\n",
    "    )\n",
    "    \n",
    "    return model"
   ]
  },
  {
   "cell_type": "markdown",
   "metadata": {},
   "source": [
    "Step 5: Run Keras Tuner to Find the Best Hyperparameters\n"
   ]
  },
  {
   "cell_type": "markdown",
   "metadata": {},
   "source": [
    "Custom EarlyStopping calback (monitors if \"monitor\" is above predefined threshold) - can be useful in cases when the model is too complex and need several steps to start up the actual training - EarlyStopping won't react before the predefined threshold is reached (0.5 for \"val_accuracy\" in this case)"
   ]
  },
  {
   "cell_type": "code",
   "execution_count": 143,
   "metadata": {},
   "outputs": [],
   "source": [
    "'''\n",
    "Custom EarlyStopping calback (monitors if \"monitor\" is above predefined threshold), only if \"val_accuracy\" > threshold enables \n",
    "EarlyStopping callback\n",
    "\n",
    "Input parameters:\n",
    "-- monitor: metric to be monitored for EarlyStopping callback\n",
    "-- patience: number of steps with the same or worse metric before stopping\n",
    "-- threshold: minimum value of metric for EarlyStopping callback activation\n",
    "-- verbose: level of severity for log messages\n",
    "'''\n",
    "class EarlyStoppingWithThreshold(Callback):\n",
    "    def __init__(self, monitor='val_accuracy', patience=5, threshold=0.5, verbose=1):\n",
    "        super().__init__()\n",
    "        self.monitor = monitor\n",
    "        self.patience = patience\n",
    "        self.threshold = threshold\n",
    "        self.verbose = verbose\n",
    "        self.wait = 0\n",
    "        self.best = -np.inf\n",
    "\n",
    "    def on_epoch_end(self, epoch, logs=None):\n",
    "        current = logs.get(self.monitor)\n",
    "        if current is None:\n",
    "            return\n",
    "        \n",
    "        # Only start checking if threshold is passed\n",
    "        if current < self.threshold:\n",
    "            if self.verbose:\n",
    "                print(f\"Epoch {epoch + 1}: {self.monitor} below threshold {self.threshold:.2f}, skipping early stop check.\")\n",
    "            return\n",
    "        \n",
    "        if current > self.best:\n",
    "            self.best = current\n",
    "            self.wait = 0\n",
    "        else:\n",
    "            self.wait += 1\n",
    "            if self.wait >= self.patience:\n",
    "                if self.verbose:\n",
    "                    print(f\"\\nEpoch {epoch + 1}: early stopping triggered. Best {self.monitor}: {self.best:.4f}\")\n",
    "                self.model.stop_training = True"
   ]
  },
  {
   "cell_type": "markdown",
   "metadata": {},
   "source": [
    "Initialize the tuner"
   ]
  },
  {
   "cell_type": "code",
   "execution_count": 144,
   "metadata": {},
   "outputs": [
    {
     "name": "stdout",
     "output_type": "stream",
     "text": [
      "Search space summary\n",
      "Default search space size: 7\n",
      "filters_1 (Choice)\n",
      "{'default': 64, 'conditions': [], 'values': [64, 128, 256], 'ordered': True}\n",
      "kernel_size_1 (Choice)\n",
      "{'default': 3, 'conditions': [], 'values': [3, 5], 'ordered': True}\n",
      "add_conv_2 (Boolean)\n",
      "{'default': False, 'conditions': []}\n",
      "add_conv_3 (Boolean)\n",
      "{'default': False, 'conditions': []}\n",
      "dense_units (Choice)\n",
      "{'default': 64, 'conditions': [], 'values': [64, 128, 256], 'ordered': True}\n",
      "dropout (Float)\n",
      "{'default': 0.2, 'conditions': [], 'min_value': 0.2, 'max_value': 0.5, 'step': 0.1, 'sampling': 'linear'}\n",
      "learning_rate (Float)\n",
      "{'default': 0.0001, 'conditions': [], 'min_value': 0.0001, 'max_value': 0.01, 'step': None, 'sampling': 'log'}\n"
     ]
    },
    {
     "name": "stderr",
     "output_type": "stream",
     "text": [
      "/Library/Frameworks/Python.framework/Versions/3.11/lib/python3.11/site-packages/keras/src/layers/convolutional/base_conv.py:107: UserWarning: Do not pass an `input_shape`/`input_dim` argument to a layer. When using Sequential models, prefer using an `Input(shape)` object as the first layer in the model instead.\n",
      "  super().__init__(activity_regularizer=activity_regularizer, **kwargs)\n"
     ]
    }
   ],
   "source": [
    "# Number of runs of tuner (tuner points)\n",
    "runs = 10\n",
    "\n",
    "tuner = RandomSearch(\n",
    "    build_model,\n",
    "    objective='val_accuracy',\n",
    "    max_trials=runs,            # You can increase this for better results\n",
    "    executions_per_trial=1,    # Runs per model setting\n",
    "    directory='tuner_results',\n",
    "    project_name='cnn_tuning'\n",
    ")\n",
    "\n",
    "# Tuner summary\n",
    "tuner.search_space_summary()"
   ]
  },
  {
   "cell_type": "markdown",
   "metadata": {},
   "source": [
    "Run the tuner"
   ]
  },
  {
   "cell_type": "code",
   "execution_count": 145,
   "metadata": {},
   "outputs": [
    {
     "name": "stdout",
     "output_type": "stream",
     "text": [
      "Trial 10 Complete [00h 01m 41s]\n",
      "val_accuracy: 0.9986657500267029\n",
      "\n",
      "Best val_accuracy So Far: 1.0\n",
      "Total elapsed time: 00h 23m 32s\n",
      "Results summary\n",
      "Results in tuner_results/cnn_tuning\n",
      "Showing 10 best trials\n",
      "Objective(name=\"val_accuracy\", direction=\"max\")\n",
      "\n",
      "Trial 00 summary\n",
      "Hyperparameters:\n",
      "filters_1: 256\n",
      "kernel_size_1: 5\n",
      "add_conv_2: False\n",
      "add_conv_3: False\n",
      "dense_units: 128\n",
      "dropout: 0.2\n",
      "learning_rate: 0.001958975633214816\n",
      "Score: 1.0\n",
      "\n",
      "Trial 06 summary\n",
      "Hyperparameters:\n",
      "filters_1: 64\n",
      "kernel_size_1: 3\n",
      "add_conv_2: True\n",
      "add_conv_3: False\n",
      "dense_units: 256\n",
      "dropout: 0.4\n",
      "learning_rate: 0.0009302852433676885\n",
      "filters_2: 64\n",
      "kernel_size_2: 3\n",
      "filters_3: 128\n",
      "kernel_size_3: 5\n",
      "Score: 1.0\n",
      "\n",
      "Trial 08 summary\n",
      "Hyperparameters:\n",
      "filters_1: 128\n",
      "kernel_size_1: 3\n",
      "add_conv_2: False\n",
      "add_conv_3: True\n",
      "dense_units: 64\n",
      "dropout: 0.30000000000000004\n",
      "learning_rate: 0.004910100840508796\n",
      "filters_2: 256\n",
      "kernel_size_2: 3\n",
      "filters_3: 256\n",
      "kernel_size_3: 3\n",
      "Score: 1.0\n",
      "\n",
      "Trial 01 summary\n",
      "Hyperparameters:\n",
      "filters_1: 128\n",
      "kernel_size_1: 5\n",
      "add_conv_2: True\n",
      "add_conv_3: True\n",
      "dense_units: 64\n",
      "dropout: 0.4\n",
      "learning_rate: 0.0009111439101364756\n",
      "filters_2: 64\n",
      "kernel_size_2: 3\n",
      "filters_3: 64\n",
      "kernel_size_3: 3\n",
      "Score: 0.9986657500267029\n",
      "\n",
      "Trial 03 summary\n",
      "Hyperparameters:\n",
      "filters_1: 128\n",
      "kernel_size_1: 3\n",
      "add_conv_2: False\n",
      "add_conv_3: False\n",
      "dense_units: 64\n",
      "dropout: 0.2\n",
      "learning_rate: 0.0020615477303886475\n",
      "filters_2: 256\n",
      "kernel_size_2: 5\n",
      "filters_3: 64\n",
      "kernel_size_3: 3\n",
      "Score: 0.9986657500267029\n",
      "\n",
      "Trial 07 summary\n",
      "Hyperparameters:\n",
      "filters_1: 64\n",
      "kernel_size_1: 3\n",
      "add_conv_2: False\n",
      "add_conv_3: True\n",
      "dense_units: 256\n",
      "dropout: 0.30000000000000004\n",
      "learning_rate: 0.002039939361228674\n",
      "filters_2: 128\n",
      "kernel_size_2: 5\n",
      "filters_3: 256\n",
      "kernel_size_3: 5\n",
      "Score: 0.9986657500267029\n",
      "\n",
      "Trial 09 summary\n",
      "Hyperparameters:\n",
      "filters_1: 256\n",
      "kernel_size_1: 3\n",
      "add_conv_2: False\n",
      "add_conv_3: False\n",
      "dense_units: 128\n",
      "dropout: 0.2\n",
      "learning_rate: 0.0016740809594745873\n",
      "filters_2: 256\n",
      "kernel_size_2: 5\n",
      "filters_3: 256\n",
      "kernel_size_3: 3\n",
      "Score: 0.9986657500267029\n",
      "\n",
      "Trial 04 summary\n",
      "Hyperparameters:\n",
      "filters_1: 64\n",
      "kernel_size_1: 3\n",
      "add_conv_2: False\n",
      "add_conv_3: True\n",
      "dense_units: 128\n",
      "dropout: 0.4\n",
      "learning_rate: 0.0005716024863895304\n",
      "filters_2: 64\n",
      "kernel_size_2: 5\n",
      "filters_3: 128\n",
      "kernel_size_3: 3\n",
      "Score: 0.9979986548423767\n",
      "\n",
      "Trial 05 summary\n",
      "Hyperparameters:\n",
      "filters_1: 64\n",
      "kernel_size_1: 5\n",
      "add_conv_2: False\n",
      "add_conv_3: False\n",
      "dense_units: 256\n",
      "dropout: 0.4\n",
      "learning_rate: 0.0002648435970513273\n",
      "filters_2: 128\n",
      "kernel_size_2: 5\n",
      "filters_3: 256\n",
      "kernel_size_3: 3\n",
      "Score: 0.9873248934745789\n",
      "\n",
      "Trial 02 summary\n",
      "Hyperparameters:\n",
      "filters_1: 128\n",
      "kernel_size_1: 5\n",
      "add_conv_2: True\n",
      "add_conv_3: True\n",
      "dense_units: 64\n",
      "dropout: 0.4\n",
      "learning_rate: 0.0002477421865785999\n",
      "filters_2: 128\n",
      "kernel_size_2: 3\n",
      "filters_3: 256\n",
      "kernel_size_3: 5\n",
      "Score: 0.9819880127906799\n"
     ]
    }
   ],
   "source": [
    "# Configure tuner\n",
    "tuner.search(\n",
    "    X_train, y_train,\n",
    "    epochs=20,\n",
    "    validation_data=(X_val, y_val),\n",
    "    callbacks=[\n",
    "        EarlyStoppingWithThreshold(monitor='val_accuracy', patience=5, threshold=0.5, verbose=1),\n",
    "        ReduceLROnPlateau(monitor='val_loss', factor=0.5, patience=3, min_lr=1e-4, verbose=1)\n",
    "    ],\n",
    "    verbose=2\n",
    ")\n",
    "\n",
    "# Show the results\n",
    "tuner.results_summary()\n",
    "\n",
    "# Run tuner\n",
    "tuner.search()"
   ]
  },
  {
   "cell_type": "markdown",
   "metadata": {},
   "source": [
    "Take the best model (the easiest and with high accuracy), extract training data"
   ]
  },
  {
   "cell_type": "code",
   "execution_count": 146,
   "metadata": {},
   "outputs": [
    {
     "name": "stdout",
     "output_type": "stream",
     "text": [
      "Model 1 - Total trainable parameters: 1334403\n",
      "Model 2 - Total trainable parameters: 759747\n",
      "Model 3 - Total trainable parameters: 759619\n",
      "Model 4 - Total trainable parameters: 233155\n",
      "Model 5 - Total trainable parameters: 333379\n",
      "Picked model 4\n"
     ]
    }
   ],
   "source": [
    "# Get the best 5 models (to then compare)\n",
    "top_trials = tuner.oracle.get_best_trials(num_trials=5)\n",
    "\n",
    "# Build models and print parameter counts\n",
    "param_counts = []\n",
    "models = []\n",
    "\n",
    "for i, trial in enumerate(top_trials):\n",
    "    model = tuner.hypermodel.build(trial.hyperparameters)\n",
    "    models.append(model)\n",
    "    params = model.count_params()\n",
    "    param_counts.append((i, params))\n",
    "    print(f\"Model {i+1} - Total trainable parameters: {params}\")\n",
    "\n",
    "# Pick the trial with the lowest param count\n",
    "best_index, best_param_count = min(param_counts, key=lambda x: x[1])\n",
    "best_trial = top_trials[best_index]\n",
    "best_model = models[best_index]\n",
    "print(f\"Picked model {best_index + 1}\")"
   ]
  },
  {
   "cell_type": "markdown",
   "metadata": {},
   "source": [
    "Step 6: Final training of the best model and evaluation"
   ]
  },
  {
   "cell_type": "code",
   "execution_count": 147,
   "metadata": {},
   "outputs": [
    {
     "name": "stdout",
     "output_type": "stream",
     "text": [
      "Epoch 1/50\n",
      "\u001b[1m300/300\u001b[0m \u001b[32m━━━━━━━━━━━━━━━━━━━━\u001b[0m\u001b[37m\u001b[0m \u001b[1m13s\u001b[0m 40ms/step - accuracy: 0.5213 - loss: 0.9270 - val_accuracy: 0.9026 - val_loss: 0.3203 - learning_rate: 9.1114e-04\n",
      "Epoch 2/50\n",
      "\u001b[1m300/300\u001b[0m \u001b[32m━━━━━━━━━━━━━━━━━━━━\u001b[0m\u001b[37m\u001b[0m \u001b[1m11s\u001b[0m 37ms/step - accuracy: 0.8991 - loss: 0.2995 - val_accuracy: 0.9046 - val_loss: 0.3041 - learning_rate: 9.1114e-04\n",
      "Epoch 3/50\n",
      "\u001b[1m300/300\u001b[0m \u001b[32m━━━━━━━━━━━━━━━━━━━━\u001b[0m\u001b[37m\u001b[0m \u001b[1m11s\u001b[0m 36ms/step - accuracy: 0.9301 - loss: 0.1992 - val_accuracy: 0.9433 - val_loss: 0.1502 - learning_rate: 9.1114e-04\n",
      "Epoch 4/50\n",
      "\u001b[1m300/300\u001b[0m \u001b[32m━━━━━━━━━━━━━━━━━━━━\u001b[0m\u001b[37m\u001b[0m \u001b[1m12s\u001b[0m 39ms/step - accuracy: 0.9533 - loss: 0.1373 - val_accuracy: 0.9313 - val_loss: 0.2115 - learning_rate: 9.1114e-04\n",
      "Epoch 5/50\n",
      "\u001b[1m300/300\u001b[0m \u001b[32m━━━━━━━━━━━━━━━━━━━━\u001b[0m\u001b[37m\u001b[0m \u001b[1m12s\u001b[0m 41ms/step - accuracy: 0.9584 - loss: 0.1258 - val_accuracy: 0.9453 - val_loss: 0.1306 - learning_rate: 9.1114e-04\n",
      "Epoch 6/50\n",
      "\u001b[1m300/300\u001b[0m \u001b[32m━━━━━━━━━━━━━━━━━━━━\u001b[0m\u001b[37m\u001b[0m \u001b[1m12s\u001b[0m 39ms/step - accuracy: 0.9628 - loss: 0.1020 - val_accuracy: 0.9513 - val_loss: 0.1126 - learning_rate: 9.1114e-04\n",
      "Epoch 7/50\n",
      "\u001b[1m300/300\u001b[0m \u001b[32m━━━━━━━━━━━━━━━━━━━━\u001b[0m\u001b[37m\u001b[0m \u001b[1m12s\u001b[0m 41ms/step - accuracy: 0.9739 - loss: 0.0819 - val_accuracy: 0.9780 - val_loss: 0.0614 - learning_rate: 9.1114e-04\n",
      "Epoch 8/50\n",
      "\u001b[1m300/300\u001b[0m \u001b[32m━━━━━━━━━━━━━━━━━━━━\u001b[0m\u001b[37m\u001b[0m \u001b[1m11s\u001b[0m 37ms/step - accuracy: 0.9806 - loss: 0.0655 - val_accuracy: 0.9827 - val_loss: 0.0474 - learning_rate: 9.1114e-04\n",
      "Epoch 9/50\n",
      "\u001b[1m300/300\u001b[0m \u001b[32m━━━━━━━━━━━━━━━━━━━━\u001b[0m\u001b[37m\u001b[0m \u001b[1m11s\u001b[0m 38ms/step - accuracy: 0.9788 - loss: 0.0650 - val_accuracy: 0.9820 - val_loss: 0.0477 - learning_rate: 9.1114e-04\n",
      "Epoch 10/50\n",
      "\u001b[1m300/300\u001b[0m \u001b[32m━━━━━━━━━━━━━━━━━━━━\u001b[0m\u001b[37m\u001b[0m \u001b[1m12s\u001b[0m 40ms/step - accuracy: 0.9836 - loss: 0.0460 - val_accuracy: 0.9900 - val_loss: 0.0315 - learning_rate: 9.1114e-04\n",
      "Epoch 11/50\n",
      "\u001b[1m300/300\u001b[0m \u001b[32m━━━━━━━━━━━━━━━━━━━━\u001b[0m\u001b[37m\u001b[0m \u001b[1m12s\u001b[0m 38ms/step - accuracy: 0.9876 - loss: 0.0364 - val_accuracy: 0.9446 - val_loss: 0.1356 - learning_rate: 9.1114e-04\n",
      "Epoch 12/50\n",
      "\u001b[1m300/300\u001b[0m \u001b[32m━━━━━━━━━━━━━━━━━━━━\u001b[0m\u001b[37m\u001b[0m \u001b[1m11s\u001b[0m 36ms/step - accuracy: 0.9877 - loss: 0.0335 - val_accuracy: 0.9920 - val_loss: 0.0229 - learning_rate: 9.1114e-04\n",
      "Epoch 13/50\n",
      "\u001b[1m300/300\u001b[0m \u001b[32m━━━━━━━━━━━━━━━━━━━━\u001b[0m\u001b[37m\u001b[0m \u001b[1m11s\u001b[0m 37ms/step - accuracy: 0.9956 - loss: 0.0184 - val_accuracy: 0.9933 - val_loss: 0.0171 - learning_rate: 9.1114e-04\n",
      "Epoch 14/50\n",
      "\u001b[1m300/300\u001b[0m \u001b[32m━━━━━━━━━━━━━━━━━━━━\u001b[0m\u001b[37m\u001b[0m \u001b[1m11s\u001b[0m 37ms/step - accuracy: 0.9942 - loss: 0.0194 - val_accuracy: 0.9980 - val_loss: 0.0070 - learning_rate: 9.1114e-04\n",
      "Epoch 15/50\n",
      "\u001b[1m300/300\u001b[0m \u001b[32m━━━━━━━━━━━━━━━━━━━━\u001b[0m\u001b[37m\u001b[0m \u001b[1m11s\u001b[0m 37ms/step - accuracy: 0.9958 - loss: 0.0144 - val_accuracy: 0.9987 - val_loss: 0.0074 - learning_rate: 9.1114e-04\n",
      "Epoch 16/50\n",
      "\u001b[1m300/300\u001b[0m \u001b[32m━━━━━━━━━━━━━━━━━━━━\u001b[0m\u001b[37m\u001b[0m \u001b[1m11s\u001b[0m 36ms/step - accuracy: 0.9983 - loss: 0.0097 - val_accuracy: 0.9993 - val_loss: 0.0056 - learning_rate: 9.1114e-04\n",
      "Epoch 17/50\n",
      "\u001b[1m300/300\u001b[0m \u001b[32m━━━━━━━━━━━━━━━━━━━━\u001b[0m\u001b[37m\u001b[0m \u001b[1m11s\u001b[0m 37ms/step - accuracy: 0.9969 - loss: 0.0110 - val_accuracy: 0.9993 - val_loss: 0.0025 - learning_rate: 9.1114e-04\n",
      "Epoch 18/50\n",
      "\u001b[1m300/300\u001b[0m \u001b[32m━━━━━━━━━━━━━━━━━━━━\u001b[0m\u001b[37m\u001b[0m \u001b[1m11s\u001b[0m 37ms/step - accuracy: 0.9978 - loss: 0.0076 - val_accuracy: 0.9987 - val_loss: 0.0030 - learning_rate: 9.1114e-04\n",
      "Epoch 19/50\n",
      "\u001b[1m300/300\u001b[0m \u001b[32m━━━━━━━━━━━━━━━━━━━━\u001b[0m\u001b[37m\u001b[0m \u001b[1m11s\u001b[0m 37ms/step - accuracy: 0.9984 - loss: 0.0061 - val_accuracy: 0.9927 - val_loss: 0.0136 - learning_rate: 9.1114e-04\n",
      "Epoch 20/50\n",
      "\u001b[1m300/300\u001b[0m \u001b[32m━━━━━━━━━━━━━━━━━━━━\u001b[0m\u001b[37m\u001b[0m \u001b[1m0s\u001b[0m 34ms/step - accuracy: 0.9953 - loss: 0.0135\n",
      "Epoch 20: ReduceLROnPlateau reducing learning rate to 0.00045557194971479475.\n",
      "\u001b[1m300/300\u001b[0m \u001b[32m━━━━━━━━━━━━━━━━━━━━\u001b[0m\u001b[37m\u001b[0m \u001b[1m11s\u001b[0m 37ms/step - accuracy: 0.9953 - loss: 0.0135 - val_accuracy: 0.9993 - val_loss: 0.0028 - learning_rate: 9.1114e-04\n",
      "Epoch 21/50\n",
      "\u001b[1m300/300\u001b[0m \u001b[32m━━━━━━━━━━━━━━━━━━━━\u001b[0m\u001b[37m\u001b[0m \u001b[1m0s\u001b[0m 34ms/step - accuracy: 0.9990 - loss: 0.0036\n",
      "Epoch 21: early stopping triggered. Best val_accuracy: 0.9993\n",
      "\u001b[1m300/300\u001b[0m \u001b[32m━━━━━━━━━━━━━━━━━━━━\u001b[0m\u001b[37m\u001b[0m \u001b[1m11s\u001b[0m 37ms/step - accuracy: 0.9990 - loss: 0.0036 - val_accuracy: 0.9980 - val_loss: 0.0048 - learning_rate: 4.5557e-04\n"
     ]
    }
   ],
   "source": [
    "# Retrain the best model\n",
    "history = best_model.fit(\n",
    "    X_train, y_train,\n",
    "    epochs=50,\n",
    "    batch_size=20,\n",
    "    validation_data=(X_val, y_val),\n",
    "    callbacks=[\n",
    "        EarlyStoppingWithThreshold(monitor='val_accuracy', patience=5, threshold=0.5 , verbose=1),\n",
    "        ReduceLROnPlateau(monitor='val_loss', factor=0.5, patience=3, min_lr=1e-6, verbose=1)\n",
    "    ]\n",
    ")"
   ]
  },
  {
   "cell_type": "markdown",
   "metadata": {},
   "source": [
    "Model summary"
   ]
  },
  {
   "cell_type": "code",
   "execution_count": 148,
   "metadata": {},
   "outputs": [
    {
     "data": {
      "text/html": [
       "<pre style=\"white-space:pre;overflow-x:auto;line-height:normal;font-family:Menlo,'DejaVu Sans Mono',consolas,'Courier New',monospace\"><span style=\"font-weight: bold\">Model: \"sequential_4\"</span>\n",
       "</pre>\n"
      ],
      "text/plain": [
       "\u001b[1mModel: \"sequential_4\"\u001b[0m\n"
      ]
     },
     "metadata": {},
     "output_type": "display_data"
    },
    {
     "data": {
      "text/html": [
       "<pre style=\"white-space:pre;overflow-x:auto;line-height:normal;font-family:Menlo,'DejaVu Sans Mono',consolas,'Courier New',monospace\">┏━━━━━━━━━━━━━━━━━━━━━━━━━━━━━━━━━┳━━━━━━━━━━━━━━━━━━━━━━━━┳━━━━━━━━━━━━━━━┓\n",
       "┃<span style=\"font-weight: bold\"> Layer (type)                    </span>┃<span style=\"font-weight: bold\"> Output Shape           </span>┃<span style=\"font-weight: bold\">       Param # </span>┃\n",
       "┡━━━━━━━━━━━━━━━━━━━━━━━━━━━━━━━━━╇━━━━━━━━━━━━━━━━━━━━━━━━╇━━━━━━━━━━━━━━━┩\n",
       "│ conv2d_6 (<span style=\"color: #0087ff; text-decoration-color: #0087ff\">Conv2D</span>)               │ (<span style=\"color: #00d7ff; text-decoration-color: #00d7ff\">None</span>, <span style=\"color: #00af00; text-decoration-color: #00af00\">68</span>, <span style=\"color: #00af00; text-decoration-color: #00af00\">44</span>, <span style=\"color: #00af00; text-decoration-color: #00af00\">128</span>)    │         <span style=\"color: #00af00; text-decoration-color: #00af00\">3,328</span> │\n",
       "├─────────────────────────────────┼────────────────────────┼───────────────┤\n",
       "│ max_pooling2d_12 (<span style=\"color: #0087ff; text-decoration-color: #0087ff\">MaxPooling2D</span>) │ (<span style=\"color: #00d7ff; text-decoration-color: #00d7ff\">None</span>, <span style=\"color: #00af00; text-decoration-color: #00af00\">34</span>, <span style=\"color: #00af00; text-decoration-color: #00af00\">22</span>, <span style=\"color: #00af00; text-decoration-color: #00af00\">128</span>)    │             <span style=\"color: #00af00; text-decoration-color: #00af00\">0</span> │\n",
       "├─────────────────────────────────┼────────────────────────┼───────────────┤\n",
       "│ conv2d_7 (<span style=\"color: #0087ff; text-decoration-color: #0087ff\">Conv2D</span>)               │ (<span style=\"color: #00d7ff; text-decoration-color: #00d7ff\">None</span>, <span style=\"color: #00af00; text-decoration-color: #00af00\">32</span>, <span style=\"color: #00af00; text-decoration-color: #00af00\">20</span>, <span style=\"color: #00af00; text-decoration-color: #00af00\">64</span>)     │        <span style=\"color: #00af00; text-decoration-color: #00af00\">73,792</span> │\n",
       "├─────────────────────────────────┼────────────────────────┼───────────────┤\n",
       "│ max_pooling2d_13 (<span style=\"color: #0087ff; text-decoration-color: #0087ff\">MaxPooling2D</span>) │ (<span style=\"color: #00d7ff; text-decoration-color: #00d7ff\">None</span>, <span style=\"color: #00af00; text-decoration-color: #00af00\">16</span>, <span style=\"color: #00af00; text-decoration-color: #00af00\">10</span>, <span style=\"color: #00af00; text-decoration-color: #00af00\">64</span>)     │             <span style=\"color: #00af00; text-decoration-color: #00af00\">0</span> │\n",
       "├─────────────────────────────────┼────────────────────────┼───────────────┤\n",
       "│ conv2d_8 (<span style=\"color: #0087ff; text-decoration-color: #0087ff\">Conv2D</span>)               │ (<span style=\"color: #00d7ff; text-decoration-color: #00d7ff\">None</span>, <span style=\"color: #00af00; text-decoration-color: #00af00\">14</span>, <span style=\"color: #00af00; text-decoration-color: #00af00\">8</span>, <span style=\"color: #00af00; text-decoration-color: #00af00\">64</span>)      │        <span style=\"color: #00af00; text-decoration-color: #00af00\">36,928</span> │\n",
       "├─────────────────────────────────┼────────────────────────┼───────────────┤\n",
       "│ max_pooling2d_14 (<span style=\"color: #0087ff; text-decoration-color: #0087ff\">MaxPooling2D</span>) │ (<span style=\"color: #00d7ff; text-decoration-color: #00d7ff\">None</span>, <span style=\"color: #00af00; text-decoration-color: #00af00\">7</span>, <span style=\"color: #00af00; text-decoration-color: #00af00\">4</span>, <span style=\"color: #00af00; text-decoration-color: #00af00\">64</span>)       │             <span style=\"color: #00af00; text-decoration-color: #00af00\">0</span> │\n",
       "├─────────────────────────────────┼────────────────────────┼───────────────┤\n",
       "│ flatten_4 (<span style=\"color: #0087ff; text-decoration-color: #0087ff\">Flatten</span>)             │ (<span style=\"color: #00d7ff; text-decoration-color: #00d7ff\">None</span>, <span style=\"color: #00af00; text-decoration-color: #00af00\">1792</span>)           │             <span style=\"color: #00af00; text-decoration-color: #00af00\">0</span> │\n",
       "├─────────────────────────────────┼────────────────────────┼───────────────┤\n",
       "│ dense_12 (<span style=\"color: #0087ff; text-decoration-color: #0087ff\">Dense</span>)                │ (<span style=\"color: #00d7ff; text-decoration-color: #00d7ff\">None</span>, <span style=\"color: #00af00; text-decoration-color: #00af00\">64</span>)             │       <span style=\"color: #00af00; text-decoration-color: #00af00\">114,752</span> │\n",
       "├─────────────────────────────────┼────────────────────────┼───────────────┤\n",
       "│ dropout_4 (<span style=\"color: #0087ff; text-decoration-color: #0087ff\">Dropout</span>)             │ (<span style=\"color: #00d7ff; text-decoration-color: #00d7ff\">None</span>, <span style=\"color: #00af00; text-decoration-color: #00af00\">64</span>)             │             <span style=\"color: #00af00; text-decoration-color: #00af00\">0</span> │\n",
       "├─────────────────────────────────┼────────────────────────┼───────────────┤\n",
       "│ dense_13 (<span style=\"color: #0087ff; text-decoration-color: #0087ff\">Dense</span>)                │ (<span style=\"color: #00d7ff; text-decoration-color: #00d7ff\">None</span>, <span style=\"color: #00af00; text-decoration-color: #00af00\">64</span>)             │         <span style=\"color: #00af00; text-decoration-color: #00af00\">4,160</span> │\n",
       "├─────────────────────────────────┼────────────────────────┼───────────────┤\n",
       "│ dense_14 (<span style=\"color: #0087ff; text-decoration-color: #0087ff\">Dense</span>)                │ (<span style=\"color: #00d7ff; text-decoration-color: #00d7ff\">None</span>, <span style=\"color: #00af00; text-decoration-color: #00af00\">3</span>)              │           <span style=\"color: #00af00; text-decoration-color: #00af00\">195</span> │\n",
       "└─────────────────────────────────┴────────────────────────┴───────────────┘\n",
       "</pre>\n"
      ],
      "text/plain": [
       "┏━━━━━━━━━━━━━━━━━━━━━━━━━━━━━━━━━┳━━━━━━━━━━━━━━━━━━━━━━━━┳━━━━━━━━━━━━━━━┓\n",
       "┃\u001b[1m \u001b[0m\u001b[1mLayer (type)                   \u001b[0m\u001b[1m \u001b[0m┃\u001b[1m \u001b[0m\u001b[1mOutput Shape          \u001b[0m\u001b[1m \u001b[0m┃\u001b[1m \u001b[0m\u001b[1m      Param #\u001b[0m\u001b[1m \u001b[0m┃\n",
       "┡━━━━━━━━━━━━━━━━━━━━━━━━━━━━━━━━━╇━━━━━━━━━━━━━━━━━━━━━━━━╇━━━━━━━━━━━━━━━┩\n",
       "│ conv2d_6 (\u001b[38;5;33mConv2D\u001b[0m)               │ (\u001b[38;5;45mNone\u001b[0m, \u001b[38;5;34m68\u001b[0m, \u001b[38;5;34m44\u001b[0m, \u001b[38;5;34m128\u001b[0m)    │         \u001b[38;5;34m3,328\u001b[0m │\n",
       "├─────────────────────────────────┼────────────────────────┼───────────────┤\n",
       "│ max_pooling2d_12 (\u001b[38;5;33mMaxPooling2D\u001b[0m) │ (\u001b[38;5;45mNone\u001b[0m, \u001b[38;5;34m34\u001b[0m, \u001b[38;5;34m22\u001b[0m, \u001b[38;5;34m128\u001b[0m)    │             \u001b[38;5;34m0\u001b[0m │\n",
       "├─────────────────────────────────┼────────────────────────┼───────────────┤\n",
       "│ conv2d_7 (\u001b[38;5;33mConv2D\u001b[0m)               │ (\u001b[38;5;45mNone\u001b[0m, \u001b[38;5;34m32\u001b[0m, \u001b[38;5;34m20\u001b[0m, \u001b[38;5;34m64\u001b[0m)     │        \u001b[38;5;34m73,792\u001b[0m │\n",
       "├─────────────────────────────────┼────────────────────────┼───────────────┤\n",
       "│ max_pooling2d_13 (\u001b[38;5;33mMaxPooling2D\u001b[0m) │ (\u001b[38;5;45mNone\u001b[0m, \u001b[38;5;34m16\u001b[0m, \u001b[38;5;34m10\u001b[0m, \u001b[38;5;34m64\u001b[0m)     │             \u001b[38;5;34m0\u001b[0m │\n",
       "├─────────────────────────────────┼────────────────────────┼───────────────┤\n",
       "│ conv2d_8 (\u001b[38;5;33mConv2D\u001b[0m)               │ (\u001b[38;5;45mNone\u001b[0m, \u001b[38;5;34m14\u001b[0m, \u001b[38;5;34m8\u001b[0m, \u001b[38;5;34m64\u001b[0m)      │        \u001b[38;5;34m36,928\u001b[0m │\n",
       "├─────────────────────────────────┼────────────────────────┼───────────────┤\n",
       "│ max_pooling2d_14 (\u001b[38;5;33mMaxPooling2D\u001b[0m) │ (\u001b[38;5;45mNone\u001b[0m, \u001b[38;5;34m7\u001b[0m, \u001b[38;5;34m4\u001b[0m, \u001b[38;5;34m64\u001b[0m)       │             \u001b[38;5;34m0\u001b[0m │\n",
       "├─────────────────────────────────┼────────────────────────┼───────────────┤\n",
       "│ flatten_4 (\u001b[38;5;33mFlatten\u001b[0m)             │ (\u001b[38;5;45mNone\u001b[0m, \u001b[38;5;34m1792\u001b[0m)           │             \u001b[38;5;34m0\u001b[0m │\n",
       "├─────────────────────────────────┼────────────────────────┼───────────────┤\n",
       "│ dense_12 (\u001b[38;5;33mDense\u001b[0m)                │ (\u001b[38;5;45mNone\u001b[0m, \u001b[38;5;34m64\u001b[0m)             │       \u001b[38;5;34m114,752\u001b[0m │\n",
       "├─────────────────────────────────┼────────────────────────┼───────────────┤\n",
       "│ dropout_4 (\u001b[38;5;33mDropout\u001b[0m)             │ (\u001b[38;5;45mNone\u001b[0m, \u001b[38;5;34m64\u001b[0m)             │             \u001b[38;5;34m0\u001b[0m │\n",
       "├─────────────────────────────────┼────────────────────────┼───────────────┤\n",
       "│ dense_13 (\u001b[38;5;33mDense\u001b[0m)                │ (\u001b[38;5;45mNone\u001b[0m, \u001b[38;5;34m64\u001b[0m)             │         \u001b[38;5;34m4,160\u001b[0m │\n",
       "├─────────────────────────────────┼────────────────────────┼───────────────┤\n",
       "│ dense_14 (\u001b[38;5;33mDense\u001b[0m)                │ (\u001b[38;5;45mNone\u001b[0m, \u001b[38;5;34m3\u001b[0m)              │           \u001b[38;5;34m195\u001b[0m │\n",
       "└─────────────────────────────────┴────────────────────────┴───────────────┘\n"
      ]
     },
     "metadata": {},
     "output_type": "display_data"
    },
    {
     "data": {
      "text/html": [
       "<pre style=\"white-space:pre;overflow-x:auto;line-height:normal;font-family:Menlo,'DejaVu Sans Mono',consolas,'Courier New',monospace\"><span style=\"font-weight: bold\"> Total params: </span><span style=\"color: #00af00; text-decoration-color: #00af00\">699,467</span> (2.67 MB)\n",
       "</pre>\n"
      ],
      "text/plain": [
       "\u001b[1m Total params: \u001b[0m\u001b[38;5;34m699,467\u001b[0m (2.67 MB)\n"
      ]
     },
     "metadata": {},
     "output_type": "display_data"
    },
    {
     "data": {
      "text/html": [
       "<pre style=\"white-space:pre;overflow-x:auto;line-height:normal;font-family:Menlo,'DejaVu Sans Mono',consolas,'Courier New',monospace\"><span style=\"font-weight: bold\"> Trainable params: </span><span style=\"color: #00af00; text-decoration-color: #00af00\">233,155</span> (910.76 KB)\n",
       "</pre>\n"
      ],
      "text/plain": [
       "\u001b[1m Trainable params: \u001b[0m\u001b[38;5;34m233,155\u001b[0m (910.76 KB)\n"
      ]
     },
     "metadata": {},
     "output_type": "display_data"
    },
    {
     "data": {
      "text/html": [
       "<pre style=\"white-space:pre;overflow-x:auto;line-height:normal;font-family:Menlo,'DejaVu Sans Mono',consolas,'Courier New',monospace\"><span style=\"font-weight: bold\"> Non-trainable params: </span><span style=\"color: #00af00; text-decoration-color: #00af00\">0</span> (0.00 B)\n",
       "</pre>\n"
      ],
      "text/plain": [
       "\u001b[1m Non-trainable params: \u001b[0m\u001b[38;5;34m0\u001b[0m (0.00 B)\n"
      ]
     },
     "metadata": {},
     "output_type": "display_data"
    },
    {
     "data": {
      "text/html": [
       "<pre style=\"white-space:pre;overflow-x:auto;line-height:normal;font-family:Menlo,'DejaVu Sans Mono',consolas,'Courier New',monospace\"><span style=\"font-weight: bold\"> Optimizer params: </span><span style=\"color: #00af00; text-decoration-color: #00af00\">466,312</span> (1.78 MB)\n",
       "</pre>\n"
      ],
      "text/plain": [
       "\u001b[1m Optimizer params: \u001b[0m\u001b[38;5;34m466,312\u001b[0m (1.78 MB)\n"
      ]
     },
     "metadata": {},
     "output_type": "display_data"
    },
    {
     "name": "stdout",
     "output_type": "stream",
     "text": [
      "None\n"
     ]
    }
   ],
   "source": [
    "# Data about best model\n",
    "print(best_model.summary())"
   ]
  },
  {
   "cell_type": "markdown",
   "metadata": {},
   "source": [
    "Accuracy metrics"
   ]
  },
  {
   "cell_type": "code",
   "execution_count": 149,
   "metadata": {},
   "outputs": [
    {
     "name": "stdout",
     "output_type": "stream",
     "text": [
      "\u001b[1m47/47\u001b[0m \u001b[32m━━━━━━━━━━━━━━━━━━━━\u001b[0m\u001b[37m\u001b[0m \u001b[1m1s\u001b[0m 14ms/step\n",
      "Predicted label distribution: [482 506 511]\n",
      "Actual label distribution: [483 508 508]\n",
      "Manual validation accuracy: 0.9980\n"
     ]
    }
   ],
   "source": [
    "# Info about model accuracy\n",
    "val_preds = best_model.predict(X_val)\n",
    "val_pred_labels = val_preds.argmax(axis=1)\n",
    "val_true_labels = y_val.argmax(axis=1)\n",
    "\n",
    "print(\"Predicted label distribution:\", np.bincount(val_pred_labels))\n",
    "print(\"Actual label distribution:\", np.bincount(val_true_labels))\n",
    "\n",
    "# Check accuracy manually\n",
    "manual_acc = np.mean(val_pred_labels == val_true_labels)\n",
    "print(f\"Manual validation accuracy: {manual_acc:.4f}\")"
   ]
  },
  {
   "cell_type": "code",
   "execution_count": 150,
   "metadata": {},
   "outputs": [
    {
     "data": {
      "image/png": "[encoded data removed]",
      "text/plain": [
       "<Figure size 1200x400 with 2 Axes>"
      ]
     },
     "metadata": {},
     "output_type": "display_data"
    }
   ],
   "source": [
    "# Plot training history\n",
    "plt.figure(figsize=(12, 4))\n",
    "\n",
    "# Accuracy\n",
    "plt.subplot(1, 2, 1)\n",
    "plt.plot(history.history['accuracy'], label='Train Acc')\n",
    "plt.plot(history.history['val_accuracy'], label='Val Acc')\n",
    "plt.title('Model Accuracy')\n",
    "plt.xlabel('Epoch')\n",
    "plt.ylabel('Accuracy')\n",
    "plt.legend()\n",
    "\n",
    "# Loss\n",
    "plt.subplot(1, 2, 2)\n",
    "plt.plot(history.history['loss'], label='Train Loss')\n",
    "plt.plot(history.history['val_loss'], label='Val Loss')\n",
    "plt.title('Model Loss')\n",
    "plt.xlabel('Epoch')\n",
    "plt.ylabel('Loss')\n",
    "plt.legend()\n",
    "\n",
    "plt.tight_layout()\n",
    "plt.show()"
   ]
  },
  {
   "cell_type": "markdown",
   "metadata": {},
   "source": [
    "Confusion matrix plotting"
   ]
  },
  {
   "cell_type": "code",
   "execution_count": 151,
   "metadata": {},
   "outputs": [
    {
     "name": "stdout",
     "output_type": "stream",
     "text": [
      "\u001b[1m47/47\u001b[0m \u001b[32m━━━━━━━━━━━━━━━━━━━━\u001b[0m\u001b[37m\u001b[0m \u001b[1m1s\u001b[0m 14ms/step\n"
     ]
    },
    {
     "data": {
      "image/png": "[encoded data removed]",
      "text/plain": [
       "<Figure size 640x480 with 2 Axes>"
      ]
     },
     "metadata": {},
     "output_type": "display_data"
    }
   ],
   "source": [
    "val_preds = best_model.predict(X_val)\n",
    "val_pred_labels = val_preds.argmax(axis=1)\n",
    "val_true_labels = y_val.argmax(axis=1)\n",
    "\n",
    "# Compute and plot confusion matrix\n",
    "cm = confusion_matrix(val_true_labels, val_pred_labels)\n",
    "disp = ConfusionMatrixDisplay(confusion_matrix=cm, display_labels=[0, 1, 2])\n",
    "\n",
    "disp.plot(cmap='Blues')\n",
    "plt.title(\"Confusion Matrix - Validation Set\")\n",
    "plt.show()"
   ]
  },
  {
   "cell_type": "markdown",
   "metadata": {},
   "source": [
    "Step 7: Predictions on test set"
   ]
  },
  {
   "cell_type": "code",
   "execution_count": 152,
   "metadata": {},
   "outputs": [
    {
     "name": "stdout",
     "output_type": "stream",
     "text": [
      "Loaded 120 test samples\n"
     ]
    }
   ],
   "source": [
    "# Load test filenames\n",
    "test_format_path = os.path.join(dataset_dir, \"test_format.csv\")\n",
    "\n",
    "# Load labels file and sort them to be in right order\n",
    "test_labels_df = pd.read_csv(test_format_path)\n",
    "tets_labels_df = test_labels_df.sort_values('ID').reset_index(drop=True)\n",
    "\n",
    "# Prepare containers\n",
    "X_test = []\n",
    "\n",
    "# Loop through each file ID\n",
    "for _, row in test_labels_df.iterrows():\n",
    "    file_name = f\"{row['ID']}.npy\"\n",
    "    #print(file_name)\n",
    "    file_path = os.path.join(test_dir, file_name)\n",
    "    try:\n",
    "        sample = np.load(file_path)\n",
    "        X_test.append(sample)\n",
    "    except Exception as e:\n",
    "        print(f\"[Error] Could not load {file_name}: {e}\")\n",
    "\n",
    "X_test = np.array(X_test).astype(\"float32\")\n",
    "\n",
    "# Apply Z-score normalization using train mean/std\n",
    "X_test = (X_test - X_mean) / X_std\n",
    "\n",
    "# Reshape for CNN input\n",
    "X_test = X_test.reshape((-1, 72, 48, 1))\n",
    "\n",
    "print(f\"Loaded {X_test.shape[0]} test samples\")"
   ]
  },
  {
   "cell_type": "code",
   "execution_count": 153,
   "metadata": {},
   "outputs": [
    {
     "name": "stdout",
     "output_type": "stream",
     "text": [
      "\u001b[1m4/4\u001b[0m \u001b[32m━━━━━━━━━━━━━━━━━━━━\u001b[0m\u001b[37m\u001b[0m \u001b[1m0s\u001b[0m 16ms/step\n",
      "Predicted labels: [1 0 1 1 0 0 2 0 2 0 1 1 1 0 1 2 0 2 2 2 0 0 2 1 0 0 2 1 1 1 2 0 2 2 2 0 2\n",
      " 0 0 0 1 2 1 0 1 2 1 0 2 1 1 0 2 0 0 1 0 1 2 0 2 1 1 2 1 1 2 1 0 2 1 1 2 2\n",
      " 2 1 1 2 2 2 0 1 2 2 0 2 0 1 0 2 2 1 2 0 2 0 0 2 0 0 0 0 1 1 2 2 1 0 1 2 2\n",
      " 0 1 1 0 1 2 0 0 1]\n"
     ]
    }
   ],
   "source": [
    "# Predict class probabilities\n",
    "y_test_probs = best_model.predict(X_test)\n",
    "\n",
    "# Convert to class labels (0, 1, 2)\n",
    "y_test_pred = y_test_probs.argmax(axis=1)\n",
    "\n",
    "# Preview\n",
    "print(\"Predicted labels:\", y_test_pred)"
   ]
  },
  {
   "cell_type": "markdown",
   "metadata": {},
   "source": [
    "Step 8: Save Kaggle Submission File"
   ]
  },
  {
   "cell_type": "code",
   "execution_count": 154,
   "metadata": {},
   "outputs": [
    {
     "name": "stdout",
     "output_type": "stream",
     "text": [
      "[INFO] Submission file saved: submission.csv\n",
      "      ID  target\n",
      "0      0       1\n",
      "1      1       0\n",
      "2      2       1\n",
      "3      3       1\n",
      "4      4       0\n",
      "..   ...     ...\n",
      "115  115       1\n",
      "116  116       2\n",
      "117  117       0\n",
      "118  118       0\n",
      "119  119       1\n",
      "\n",
      "[120 rows x 2 columns]\n"
     ]
    }
   ],
   "source": [
    "# Load test_format.csv\n",
    "test_format_path = os.path.join(dataset_dir, \"test_format.csv\")\n",
    "submission_df = pd.read_csv(test_format_path)\n",
    "submission_df = submission_df.sort_values('ID').reset_index(drop=True)\n",
    "\n",
    "# Add predicted labels\n",
    "submission_df[\"target\"] = y_test_pred\n",
    "\n",
    "# Save to CSV for Kaggle\n",
    "submission_file = \"submission.csv\"\n",
    "submission_df.to_csv(submission_file, index=False)\n",
    "\n",
    "print(f\"[INFO] Submission file saved: {submission_file}\")\n",
    "print(submission_df)"
   ]
  }
 ],
 "metadata": {
  "kernelspec": {
   "display_name": "Python 3",
   "language": "python",
   "name": "python3"
  },
  "language_info": {
   "codemirror_mode": {
    "name": "ipython",
    "version": 3
   },
   "file_extension": ".py",
   "mimetype": "text/x-python",
   "name": "python",
   "nbconvert_exporter": "python",
   "pygments_lexer": "ipython3",
   "version": "3.11.2"
  }
 },
 "nbformat": 4,
 "nbformat_minor": 2
}
